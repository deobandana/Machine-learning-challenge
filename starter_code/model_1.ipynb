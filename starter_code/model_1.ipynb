{
 "cells": [
  {
   "cell_type": "code",
   "execution_count": 1,
   "metadata": {},
   "outputs": [
    {
     "name": "stdout",
     "output_type": "stream",
     "text": [
      "Requirement already up-to-date: sklearn in c:\\users\\bandana\\anaconda3\\lib\\site-packages (0.0)\n",
      "Requirement already satisfied, skipping upgrade: scikit-learn in c:\\users\\bandana\\anaconda3\\lib\\site-packages (from sklearn) (0.22.1)\n",
      "Requirement already satisfied, skipping upgrade: scipy>=0.17.0 in c:\\users\\bandana\\anaconda3\\lib\\site-packages (from scikit-learn->sklearn) (1.4.1)\n",
      "Requirement already satisfied, skipping upgrade: joblib>=0.11 in c:\\users\\bandana\\anaconda3\\lib\\site-packages (from scikit-learn->sklearn) (0.14.1)\n",
      "Requirement already satisfied, skipping upgrade: numpy>=1.11.0 in c:\\users\\bandana\\anaconda3\\lib\\site-packages (from scikit-learn->sklearn) (1.18.1)\n"
     ]
    }
   ],
   "source": [
    "# Update sklearn to prevent version mismatches\n",
    "!pip install sklearn --upgrade"
   ]
  },
  {
   "cell_type": "code",
   "execution_count": 2,
   "metadata": {},
   "outputs": [
    {
     "name": "stdout",
     "output_type": "stream",
     "text": [
      "Requirement already satisfied: joblib in c:\\users\\bandana\\anaconda3\\lib\\site-packages (0.14.1)\n"
     ]
    }
   ],
   "source": [
    "# install joblib. This will be used to save your model. \n",
    "# Restart your kernel after installing \n",
    "!pip install joblib"
   ]
  },
  {
   "cell_type": "code",
   "execution_count": 4,
   "metadata": {},
   "outputs": [],
   "source": [
    "#Dependencies\n",
    "\n",
    "import pandas as pd"
   ]
  },
  {
   "cell_type": "markdown",
   "metadata": {},
   "source": [
    "# Read the CSV and Perform Basic Data Cleaning"
   ]
  },
  {
   "cell_type": "code",
   "execution_count": 5,
   "metadata": {},
   "outputs": [
    {
     "data": {
      "text/html": [
       "<div>\n",
       "<style scoped>\n",
       "    .dataframe tbody tr th:only-of-type {\n",
       "        vertical-align: middle;\n",
       "    }\n",
       "\n",
       "    .dataframe tbody tr th {\n",
       "        vertical-align: top;\n",
       "    }\n",
       "\n",
       "    .dataframe thead th {\n",
       "        text-align: right;\n",
       "    }\n",
       "</style>\n",
       "<table border=\"1\" class=\"dataframe\">\n",
       "  <thead>\n",
       "    <tr style=\"text-align: right;\">\n",
       "      <th></th>\n",
       "      <th>koi_disposition</th>\n",
       "      <th>koi_fpflag_nt</th>\n",
       "      <th>koi_fpflag_ss</th>\n",
       "      <th>koi_fpflag_co</th>\n",
       "      <th>koi_fpflag_ec</th>\n",
       "      <th>koi_period</th>\n",
       "      <th>koi_period_err1</th>\n",
       "      <th>koi_period_err2</th>\n",
       "      <th>koi_time0bk</th>\n",
       "      <th>koi_time0bk_err1</th>\n",
       "      <th>...</th>\n",
       "      <th>koi_steff_err2</th>\n",
       "      <th>koi_slogg</th>\n",
       "      <th>koi_slogg_err1</th>\n",
       "      <th>koi_slogg_err2</th>\n",
       "      <th>koi_srad</th>\n",
       "      <th>koi_srad_err1</th>\n",
       "      <th>koi_srad_err2</th>\n",
       "      <th>ra</th>\n",
       "      <th>dec</th>\n",
       "      <th>koi_kepmag</th>\n",
       "    </tr>\n",
       "  </thead>\n",
       "  <tbody>\n",
       "    <tr>\n",
       "      <th>0</th>\n",
       "      <td>CONFIRMED</td>\n",
       "      <td>0</td>\n",
       "      <td>0</td>\n",
       "      <td>0</td>\n",
       "      <td>0</td>\n",
       "      <td>54.418383</td>\n",
       "      <td>2.479000e-04</td>\n",
       "      <td>-2.479000e-04</td>\n",
       "      <td>162.513840</td>\n",
       "      <td>0.003520</td>\n",
       "      <td>...</td>\n",
       "      <td>-81</td>\n",
       "      <td>4.467</td>\n",
       "      <td>0.064</td>\n",
       "      <td>-0.096</td>\n",
       "      <td>0.927</td>\n",
       "      <td>0.105</td>\n",
       "      <td>-0.061</td>\n",
       "      <td>291.93423</td>\n",
       "      <td>48.141651</td>\n",
       "      <td>15.347</td>\n",
       "    </tr>\n",
       "    <tr>\n",
       "      <th>1</th>\n",
       "      <td>FALSE POSITIVE</td>\n",
       "      <td>0</td>\n",
       "      <td>1</td>\n",
       "      <td>0</td>\n",
       "      <td>0</td>\n",
       "      <td>19.899140</td>\n",
       "      <td>1.490000e-05</td>\n",
       "      <td>-1.490000e-05</td>\n",
       "      <td>175.850252</td>\n",
       "      <td>0.000581</td>\n",
       "      <td>...</td>\n",
       "      <td>-176</td>\n",
       "      <td>4.544</td>\n",
       "      <td>0.044</td>\n",
       "      <td>-0.176</td>\n",
       "      <td>0.868</td>\n",
       "      <td>0.233</td>\n",
       "      <td>-0.078</td>\n",
       "      <td>297.00482</td>\n",
       "      <td>48.134129</td>\n",
       "      <td>15.436</td>\n",
       "    </tr>\n",
       "    <tr>\n",
       "      <th>2</th>\n",
       "      <td>FALSE POSITIVE</td>\n",
       "      <td>0</td>\n",
       "      <td>1</td>\n",
       "      <td>0</td>\n",
       "      <td>0</td>\n",
       "      <td>1.736952</td>\n",
       "      <td>2.630000e-07</td>\n",
       "      <td>-2.630000e-07</td>\n",
       "      <td>170.307565</td>\n",
       "      <td>0.000115</td>\n",
       "      <td>...</td>\n",
       "      <td>-174</td>\n",
       "      <td>4.564</td>\n",
       "      <td>0.053</td>\n",
       "      <td>-0.168</td>\n",
       "      <td>0.791</td>\n",
       "      <td>0.201</td>\n",
       "      <td>-0.067</td>\n",
       "      <td>285.53461</td>\n",
       "      <td>48.285210</td>\n",
       "      <td>15.597</td>\n",
       "    </tr>\n",
       "    <tr>\n",
       "      <th>3</th>\n",
       "      <td>CONFIRMED</td>\n",
       "      <td>0</td>\n",
       "      <td>0</td>\n",
       "      <td>0</td>\n",
       "      <td>0</td>\n",
       "      <td>2.525592</td>\n",
       "      <td>3.760000e-06</td>\n",
       "      <td>-3.760000e-06</td>\n",
       "      <td>171.595550</td>\n",
       "      <td>0.001130</td>\n",
       "      <td>...</td>\n",
       "      <td>-211</td>\n",
       "      <td>4.438</td>\n",
       "      <td>0.070</td>\n",
       "      <td>-0.210</td>\n",
       "      <td>1.046</td>\n",
       "      <td>0.334</td>\n",
       "      <td>-0.133</td>\n",
       "      <td>288.75488</td>\n",
       "      <td>48.226200</td>\n",
       "      <td>15.509</td>\n",
       "    </tr>\n",
       "    <tr>\n",
       "      <th>4</th>\n",
       "      <td>CONFIRMED</td>\n",
       "      <td>0</td>\n",
       "      <td>0</td>\n",
       "      <td>0</td>\n",
       "      <td>0</td>\n",
       "      <td>4.134435</td>\n",
       "      <td>1.050000e-05</td>\n",
       "      <td>-1.050000e-05</td>\n",
       "      <td>172.979370</td>\n",
       "      <td>0.001900</td>\n",
       "      <td>...</td>\n",
       "      <td>-232</td>\n",
       "      <td>4.486</td>\n",
       "      <td>0.054</td>\n",
       "      <td>-0.229</td>\n",
       "      <td>0.972</td>\n",
       "      <td>0.315</td>\n",
       "      <td>-0.105</td>\n",
       "      <td>296.28613</td>\n",
       "      <td>48.224670</td>\n",
       "      <td>15.714</td>\n",
       "    </tr>\n",
       "  </tbody>\n",
       "</table>\n",
       "<p>5 rows × 41 columns</p>\n",
       "</div>"
      ],
      "text/plain": [
       "  koi_disposition  koi_fpflag_nt  koi_fpflag_ss  koi_fpflag_co  koi_fpflag_ec  \\\n",
       "0       CONFIRMED              0              0              0              0   \n",
       "1  FALSE POSITIVE              0              1              0              0   \n",
       "2  FALSE POSITIVE              0              1              0              0   \n",
       "3       CONFIRMED              0              0              0              0   \n",
       "4       CONFIRMED              0              0              0              0   \n",
       "\n",
       "   koi_period  koi_period_err1  koi_period_err2  koi_time0bk  \\\n",
       "0   54.418383     2.479000e-04    -2.479000e-04   162.513840   \n",
       "1   19.899140     1.490000e-05    -1.490000e-05   175.850252   \n",
       "2    1.736952     2.630000e-07    -2.630000e-07   170.307565   \n",
       "3    2.525592     3.760000e-06    -3.760000e-06   171.595550   \n",
       "4    4.134435     1.050000e-05    -1.050000e-05   172.979370   \n",
       "\n",
       "   koi_time0bk_err1  ...  koi_steff_err2  koi_slogg  koi_slogg_err1  \\\n",
       "0          0.003520  ...             -81      4.467           0.064   \n",
       "1          0.000581  ...            -176      4.544           0.044   \n",
       "2          0.000115  ...            -174      4.564           0.053   \n",
       "3          0.001130  ...            -211      4.438           0.070   \n",
       "4          0.001900  ...            -232      4.486           0.054   \n",
       "\n",
       "   koi_slogg_err2  koi_srad  koi_srad_err1  koi_srad_err2         ra  \\\n",
       "0          -0.096     0.927          0.105         -0.061  291.93423   \n",
       "1          -0.176     0.868          0.233         -0.078  297.00482   \n",
       "2          -0.168     0.791          0.201         -0.067  285.53461   \n",
       "3          -0.210     1.046          0.334         -0.133  288.75488   \n",
       "4          -0.229     0.972          0.315         -0.105  296.28613   \n",
       "\n",
       "         dec  koi_kepmag  \n",
       "0  48.141651      15.347  \n",
       "1  48.134129      15.436  \n",
       "2  48.285210      15.597  \n",
       "3  48.226200      15.509  \n",
       "4  48.224670      15.714  \n",
       "\n",
       "[5 rows x 41 columns]"
      ]
     },
     "execution_count": 5,
     "metadata": {},
     "output_type": "execute_result"
    }
   ],
   "source": [
    "df = pd.read_csv(\"exoplanet_data.csv\")\n",
    "# Drop the null columns where all values are null\n",
    "df = df.dropna(axis='columns', how='all')\n",
    "# Drop the null rows\n",
    "df = df.dropna()\n",
    "df.head()"
   ]
  },
  {
   "cell_type": "code",
   "execution_count": 6,
   "metadata": {},
   "outputs": [
    {
     "data": {
      "text/plain": [
       "FALSE POSITIVE    3504\n",
       "CONFIRMED         1800\n",
       "CANDIDATE         1687\n",
       "Name: koi_disposition, dtype: int64"
      ]
     },
     "execution_count": 6,
     "metadata": {},
     "output_type": "execute_result"
    }
   ],
   "source": [
    "df.koi_disposition.value_counts()"
   ]
  },
  {
   "cell_type": "code",
   "execution_count": 7,
   "metadata": {
    "scrolled": true
   },
   "outputs": [
    {
     "data": {
      "text/plain": [
       "FALSE POSITIVE    3504\n",
       "CONFIRMED         1800\n",
       "Name: koi_disposition, dtype: int64"
      ]
     },
     "execution_count": 7,
     "metadata": {},
     "output_type": "execute_result"
    }
   ],
   "source": [
    "# look at confirmed as true and false positives as false (1 and 0) and remove all candidate planets.\n",
    "df = df.loc[df[\"koi_disposition\"] != \"CANDIDATE\"]\n",
    "\n",
    "df.koi_disposition.value_counts()"
   ]
  },
  {
   "cell_type": "code",
   "execution_count": 8,
   "metadata": {},
   "outputs": [
    {
     "data": {
      "text/plain": [
       "0    3504\n",
       "1    1800\n",
       "Name: koi_disposition, dtype: int64"
      ]
     },
     "execution_count": 8,
     "metadata": {},
     "output_type": "execute_result"
    }
   ],
   "source": [
    "df['koi_disposition'] = df[\"koi_disposition\"].apply(lambda x: 1 if(x==\"CONFIRMED\") else 0)\n",
    "y = df['koi_disposition']\n",
    "df.koi_disposition.value_counts()\n"
   ]
  },
  {
   "cell_type": "code",
   "execution_count": 9,
   "metadata": {},
   "outputs": [
    {
     "data": {
      "text/plain": [
       "Index(['koi_disposition', 'koi_fpflag_nt', 'koi_fpflag_ss', 'koi_fpflag_co',\n",
       "       'koi_fpflag_ec', 'koi_period', 'koi_period_err1', 'koi_period_err2',\n",
       "       'koi_time0bk', 'koi_time0bk_err1', 'koi_time0bk_err2', 'koi_impact',\n",
       "       'koi_impact_err1', 'koi_impact_err2', 'koi_duration',\n",
       "       'koi_duration_err1', 'koi_duration_err2', 'koi_depth', 'koi_depth_err1',\n",
       "       'koi_depth_err2', 'koi_prad', 'koi_prad_err1', 'koi_prad_err2',\n",
       "       'koi_teq', 'koi_insol', 'koi_insol_err1', 'koi_insol_err2',\n",
       "       'koi_model_snr', 'koi_tce_plnt_num', 'koi_steff', 'koi_steff_err1',\n",
       "       'koi_steff_err2', 'koi_slogg', 'koi_slogg_err1', 'koi_slogg_err2',\n",
       "       'koi_srad', 'koi_srad_err1', 'koi_srad_err2', 'ra', 'dec',\n",
       "       'koi_kepmag'],\n",
       "      dtype='object')"
      ]
     },
     "execution_count": 9,
     "metadata": {},
     "output_type": "execute_result"
    }
   ],
   "source": [
    "# There are three different categories the planets can be classified.\n",
    "# Let's start with all features and then remove features that have little weight.\n",
    "\n",
    "#  Avoid linear regression, this is a classification problem.\n",
    "# Start with logistic classification.\n",
    "df.columns"
   ]
  },
  {
   "cell_type": "markdown",
   "metadata": {},
   "source": [
    "# Select your features (columns)"
   ]
  },
  {
   "cell_type": "code",
   "execution_count": 10,
   "metadata": {},
   "outputs": [],
   "source": [
    "# Set features. This will also be used as your x values.\n",
    "#selected_features = df[['names', 'of', 'selected', 'features', 'here']]\n",
    "\n",
    "selected_features = df[['koi_period', 'koi_time0bk', 'koi_impact', 'koi_duration', 'koi_depth', 'koi_prad', 'koi_teq', 'koi_insol', 'koi_model_snr',\n",
    "                        'koi_tce_plnt_num', 'koi_steff', 'koi_slogg', 'koi_srad', 'ra', 'dec', 'koi_kepmag']]\n"
   ]
  },
  {
   "cell_type": "markdown",
   "metadata": {},
   "source": [
    "# Create a Train Test Split\n",
    "\n",
    "Use `koi_disposition` for the y values"
   ]
  },
  {
   "cell_type": "code",
   "execution_count": 11,
   "metadata": {},
   "outputs": [],
   "source": [
    "from sklearn.model_selection import train_test_split\n",
    "\n",
    "X = selected_features\n",
    "y = df.koi_disposition\n",
    "\n",
    "X_train, X_test, y_train, y_test = train_test_split(X, y, test_size=0.2, train_size=0.8, random_state=42)"
   ]
  },
  {
   "cell_type": "code",
   "execution_count": 12,
   "metadata": {},
   "outputs": [
    {
     "data": {
      "text/html": [
       "<div>\n",
       "<style scoped>\n",
       "    .dataframe tbody tr th:only-of-type {\n",
       "        vertical-align: middle;\n",
       "    }\n",
       "\n",
       "    .dataframe tbody tr th {\n",
       "        vertical-align: top;\n",
       "    }\n",
       "\n",
       "    .dataframe thead th {\n",
       "        text-align: right;\n",
       "    }\n",
       "</style>\n",
       "<table border=\"1\" class=\"dataframe\">\n",
       "  <thead>\n",
       "    <tr style=\"text-align: right;\">\n",
       "      <th></th>\n",
       "      <th>koi_period</th>\n",
       "      <th>koi_time0bk</th>\n",
       "      <th>koi_impact</th>\n",
       "      <th>koi_duration</th>\n",
       "      <th>koi_depth</th>\n",
       "      <th>koi_prad</th>\n",
       "      <th>koi_teq</th>\n",
       "      <th>koi_insol</th>\n",
       "      <th>koi_model_snr</th>\n",
       "      <th>koi_tce_plnt_num</th>\n",
       "      <th>koi_steff</th>\n",
       "      <th>koi_slogg</th>\n",
       "      <th>koi_srad</th>\n",
       "      <th>ra</th>\n",
       "      <th>dec</th>\n",
       "      <th>koi_kepmag</th>\n",
       "    </tr>\n",
       "  </thead>\n",
       "  <tbody>\n",
       "    <tr>\n",
       "      <th>6742</th>\n",
       "      <td>235.206130</td>\n",
       "      <td>291.08930</td>\n",
       "      <td>0.2970</td>\n",
       "      <td>6.989</td>\n",
       "      <td>642.0</td>\n",
       "      <td>1.71</td>\n",
       "      <td>230</td>\n",
       "      <td>0.66</td>\n",
       "      <td>6.8</td>\n",
       "      <td>1</td>\n",
       "      <td>5205</td>\n",
       "      <td>4.648</td>\n",
       "      <td>0.679</td>\n",
       "      <td>288.43362</td>\n",
       "      <td>41.358391</td>\n",
       "      <td>15.917</td>\n",
       "    </tr>\n",
       "    <tr>\n",
       "      <th>3453</th>\n",
       "      <td>3.000119</td>\n",
       "      <td>132.90970</td>\n",
       "      <td>0.6350</td>\n",
       "      <td>6.610</td>\n",
       "      <td>7.7</td>\n",
       "      <td>0.73</td>\n",
       "      <td>2566</td>\n",
       "      <td>10247.93</td>\n",
       "      <td>7.3</td>\n",
       "      <td>1</td>\n",
       "      <td>8431</td>\n",
       "      <td>3.970</td>\n",
       "      <td>2.485</td>\n",
       "      <td>292.91702</td>\n",
       "      <td>40.092430</td>\n",
       "      <td>11.960</td>\n",
       "    </tr>\n",
       "    <tr>\n",
       "      <th>674</th>\n",
       "      <td>4.487588</td>\n",
       "      <td>133.36092</td>\n",
       "      <td>0.5320</td>\n",
       "      <td>2.874</td>\n",
       "      <td>112.0</td>\n",
       "      <td>1.37</td>\n",
       "      <td>1305</td>\n",
       "      <td>684.07</td>\n",
       "      <td>25.9</td>\n",
       "      <td>1</td>\n",
       "      <td>6060</td>\n",
       "      <td>4.227</td>\n",
       "      <td>1.257</td>\n",
       "      <td>284.86014</td>\n",
       "      <td>39.240551</td>\n",
       "      <td>13.446</td>\n",
       "    </tr>\n",
       "    <tr>\n",
       "      <th>5211</th>\n",
       "      <td>98.102098</td>\n",
       "      <td>170.33189</td>\n",
       "      <td>0.1865</td>\n",
       "      <td>1.225</td>\n",
       "      <td>184.4</td>\n",
       "      <td>1.97</td>\n",
       "      <td>525</td>\n",
       "      <td>17.96</td>\n",
       "      <td>6.9</td>\n",
       "      <td>2</td>\n",
       "      <td>6669</td>\n",
       "      <td>4.224</td>\n",
       "      <td>1.427</td>\n",
       "      <td>288.72083</td>\n",
       "      <td>42.716980</td>\n",
       "      <td>13.557</td>\n",
       "    </tr>\n",
       "    <tr>\n",
       "      <th>1786</th>\n",
       "      <td>44.616751</td>\n",
       "      <td>164.45238</td>\n",
       "      <td>0.6180</td>\n",
       "      <td>7.831</td>\n",
       "      <td>239.7</td>\n",
       "      <td>2.31</td>\n",
       "      <td>693</td>\n",
       "      <td>54.56</td>\n",
       "      <td>28.4</td>\n",
       "      <td>1</td>\n",
       "      <td>6763</td>\n",
       "      <td>4.220</td>\n",
       "      <td>1.424</td>\n",
       "      <td>292.47797</td>\n",
       "      <td>46.022831</td>\n",
       "      <td>13.791</td>\n",
       "    </tr>\n",
       "  </tbody>\n",
       "</table>\n",
       "</div>"
      ],
      "text/plain": [
       "      koi_period  koi_time0bk  koi_impact  koi_duration  koi_depth  koi_prad  \\\n",
       "6742  235.206130    291.08930      0.2970         6.989      642.0      1.71   \n",
       "3453    3.000119    132.90970      0.6350         6.610        7.7      0.73   \n",
       "674     4.487588    133.36092      0.5320         2.874      112.0      1.37   \n",
       "5211   98.102098    170.33189      0.1865         1.225      184.4      1.97   \n",
       "1786   44.616751    164.45238      0.6180         7.831      239.7      2.31   \n",
       "\n",
       "      koi_teq  koi_insol  koi_model_snr  koi_tce_plnt_num  koi_steff  \\\n",
       "6742      230       0.66            6.8                 1       5205   \n",
       "3453     2566   10247.93            7.3                 1       8431   \n",
       "674      1305     684.07           25.9                 1       6060   \n",
       "5211      525      17.96            6.9                 2       6669   \n",
       "1786      693      54.56           28.4                 1       6763   \n",
       "\n",
       "      koi_slogg  koi_srad         ra        dec  koi_kepmag  \n",
       "6742      4.648     0.679  288.43362  41.358391      15.917  \n",
       "3453      3.970     2.485  292.91702  40.092430      11.960  \n",
       "674       4.227     1.257  284.86014  39.240551      13.446  \n",
       "5211      4.224     1.427  288.72083  42.716980      13.557  \n",
       "1786      4.220     1.424  292.47797  46.022831      13.791  "
      ]
     },
     "execution_count": 12,
     "metadata": {},
     "output_type": "execute_result"
    }
   ],
   "source": [
    "X_train.head()"
   ]
  },
  {
   "cell_type": "markdown",
   "metadata": {},
   "source": [
    "# Pre-processing\n",
    "\n",
    "Scale the data using the MinMaxScaler and perform some feature selection"
   ]
  },
  {
   "cell_type": "code",
   "execution_count": 16,
   "metadata": {},
   "outputs": [],
   "source": [
    "# Scale your data\n",
    "\n",
    "# Setup MinMaxScaler\n",
    "from sklearn.preprocessing import MinMaxScaler\n",
    "\n",
    "# Set initial sizing of minmaxscaler using training data\n",
    "X_scaler = MinMaxScaler().fit(X_train)\n",
    "\n",
    "# As y is just 1 or zero, so no need to scale it!\n",
    "\n",
    "# Use MinMaxScaler to transform the data in the training and test data sets\n",
    "# So that it is not weighted improperly\n",
    "\n",
    "X_train_scaled = X_scaler.transform(X_train)\n",
    "X_test_scaled = X_scaler.transform(X_test)\n",
    "# y_train_scaled = y_scaler.transform(y_train)\n",
    "# y_test_scaled = y_scaler.transform(y_test)"
   ]
  },
  {
   "cell_type": "markdown",
   "metadata": {},
   "source": [
    "# Train the Model\n",
    "\n"
   ]
  },
  {
   "cell_type": "code",
   "execution_count": 28,
   "metadata": {},
   "outputs": [
    {
     "data": {
      "text/plain": [
       "LogisticRegression(C=1.0, class_weight=None, dual=False, fit_intercept=True,\n",
       "                   intercept_scaling=1, l1_ratio=None, max_iter=100,\n",
       "                   multi_class='auto', n_jobs=None, penalty='l2',\n",
       "                   random_state=None, solver='lbfgs', tol=0.0001, verbose=0,\n",
       "                   warm_start=False)"
      ]
     },
     "execution_count": 28,
     "metadata": {},
     "output_type": "execute_result"
    }
   ],
   "source": [
    "#first, use logistic regression in this notebook!\n",
    "from sklearn.linear_model import LogisticRegression\n",
    "model = LogisticRegression()\n",
    "model"
   ]
  },
  {
   "cell_type": "code",
   "execution_count": 29,
   "metadata": {},
   "outputs": [
    {
     "data": {
      "text/plain": [
       "LogisticRegression(C=1.0, class_weight=None, dual=False, fit_intercept=True,\n",
       "                   intercept_scaling=1, l1_ratio=None, max_iter=100,\n",
       "                   multi_class='auto', n_jobs=None, penalty='l2',\n",
       "                   random_state=None, solver='lbfgs', tol=0.0001, verbose=0,\n",
       "                   warm_start=False)"
      ]
     },
     "execution_count": 29,
     "metadata": {},
     "output_type": "execute_result"
    }
   ],
   "source": [
    "#create the model using the training data!\n",
    "model.fit(X_train_scaled, y_train)"
   ]
  },
  {
   "cell_type": "code",
   "execution_count": 30,
   "metadata": {},
   "outputs": [
    {
     "name": "stdout",
     "output_type": "stream",
     "text": [
      "Training Data Score: 0.7841150129625265\n",
      "Testing Data Score: 0.7851083883129123\n"
     ]
    }
   ],
   "source": [
    "print(f\"Training Data Score: {model.score(X_train_scaled, y_train)}\")\n",
    "print(f\"Testing Data Score: {model.score(X_test_scaled, y_test)}\")"
   ]
  },
  {
   "cell_type": "markdown",
   "metadata": {},
   "source": [
    "# Hyperparameter Tuning\n",
    "\n",
    "Use `GridSearchCV` to tune the model's parameters"
   ]
  },
  {
   "cell_type": "code",
   "execution_count": 31,
   "metadata": {},
   "outputs": [],
   "source": [
    "# Create the GridSearchCV model\n",
    "\n",
    "from sklearn.model_selection import GridSearchCV\n",
    "\n",
    "param_grid = {'C': [1, 5, 10, 50, 100, 200, 500],\n",
    "              'max_iter': [100, 200, 300],\n",
    "              'tol': [.0001, 0.001, 0.005]}\n",
    "\n",
    "grid = GridSearchCV(model, param_grid, verbose=3)"
   ]
  },
  {
   "cell_type": "code",
   "execution_count": 32,
   "metadata": {},
   "outputs": [
    {
     "name": "stdout",
     "output_type": "stream",
     "text": [
      "Fitting 5 folds for each of 63 candidates, totalling 315 fits\n",
      "[CV] C=1, max_iter=100, tol=0.0001 ...................................\n",
      "[CV] ....... C=1, max_iter=100, tol=0.0001, score=0.763, total=   0.2s\n",
      "[CV] C=1, max_iter=100, tol=0.0001 ...................................\n"
     ]
    },
    {
     "name": "stderr",
     "output_type": "stream",
     "text": [
      "[Parallel(n_jobs=1)]: Using backend SequentialBackend with 1 concurrent workers.\n",
      "[Parallel(n_jobs=1)]: Done   1 out of   1 | elapsed:    0.1s remaining:    0.0s\n"
     ]
    },
    {
     "name": "stdout",
     "output_type": "stream",
     "text": [
      "[CV] ....... C=1, max_iter=100, tol=0.0001, score=0.771, total=   0.1s\n",
      "[CV] C=1, max_iter=100, tol=0.0001 ...................................\n",
      "[CV] ....... C=1, max_iter=100, tol=0.0001, score=0.793, total=   0.1s\n",
      "[CV] C=1, max_iter=100, tol=0.0001 ...................................\n",
      "[CV] ....... C=1, max_iter=100, tol=0.0001, score=0.797, total=   0.1s"
     ]
    },
    {
     "name": "stderr",
     "output_type": "stream",
     "text": [
      "[Parallel(n_jobs=1)]: Done   2 out of   2 | elapsed:    0.1s remaining:    0.0s\n"
     ]
    },
    {
     "name": "stdout",
     "output_type": "stream",
     "text": [
      "\n",
      "[CV] C=1, max_iter=100, tol=0.0001 ...................................\n",
      "[CV] ....... C=1, max_iter=100, tol=0.0001, score=0.775, total=   0.1s\n",
      "[CV] C=1, max_iter=100, tol=0.001 ....................................\n",
      "[CV] ........ C=1, max_iter=100, tol=0.001, score=0.763, total=   0.0s\n",
      "[CV] C=1, max_iter=100, tol=0.001 ....................................\n",
      "[CV] ........ C=1, max_iter=100, tol=0.001, score=0.771, total=   0.1s\n",
      "[CV] C=1, max_iter=100, tol=0.001 ....................................\n",
      "[CV] ........ C=1, max_iter=100, tol=0.001, score=0.793, total=   0.1s\n",
      "[CV] C=1, max_iter=100, tol=0.001 ....................................\n",
      "[CV] ........ C=1, max_iter=100, tol=0.001, score=0.797, total=   0.0s\n",
      "[CV] C=1, max_iter=100, tol=0.001 ....................................\n",
      "[CV] ........ C=1, max_iter=100, tol=0.001, score=0.775, total=   0.0s\n",
      "[CV] C=1, max_iter=100, tol=0.005 ....................................\n",
      "[CV] ........ C=1, max_iter=100, tol=0.005, score=0.763, total=   0.1s\n",
      "[CV] C=1, max_iter=100, tol=0.005 ....................................\n",
      "[CV] ........ C=1, max_iter=100, tol=0.005, score=0.771, total=   0.1s\n",
      "[CV] C=1, max_iter=100, tol=0.005 ....................................\n",
      "[CV] ........ C=1, max_iter=100, tol=0.005, score=0.793, total=   0.1s\n",
      "[CV] C=1, max_iter=100, tol=0.005 ....................................\n",
      "[CV] ........ C=1, max_iter=100, tol=0.005, score=0.797, total=   0.1s\n",
      "[CV] C=1, max_iter=100, tol=0.005 ....................................\n",
      "[CV] ........ C=1, max_iter=100, tol=0.005, score=0.775, total=   0.1s\n",
      "[CV] C=1, max_iter=200, tol=0.0001 ...................................\n",
      "[CV] ....... C=1, max_iter=200, tol=0.0001, score=0.763, total=   0.0s\n",
      "[CV] C=1, max_iter=200, tol=0.0001 ...................................\n",
      "[CV] ....... C=1, max_iter=200, tol=0.0001, score=0.771, total=   0.1s\n",
      "[CV] C=1, max_iter=200, tol=0.0001 ...................................\n",
      "[CV] ....... C=1, max_iter=200, tol=0.0001, score=0.793, total=   0.1s\n",
      "[CV] C=1, max_iter=200, tol=0.0001 ...................................\n",
      "[CV] ....... C=1, max_iter=200, tol=0.0001, score=0.797, total=   0.1s\n",
      "[CV] C=1, max_iter=200, tol=0.0001 ...................................\n",
      "[CV] ....... C=1, max_iter=200, tol=0.0001, score=0.775, total=   0.1s\n",
      "[CV] C=1, max_iter=200, tol=0.001 ....................................\n",
      "[CV] ........ C=1, max_iter=200, tol=0.001, score=0.763, total=   0.1s\n",
      "[CV] C=1, max_iter=200, tol=0.001 ....................................\n",
      "[CV] ........ C=1, max_iter=200, tol=0.001, score=0.771, total=   0.1s\n",
      "[CV] C=1, max_iter=200, tol=0.001 ....................................\n",
      "[CV] ........ C=1, max_iter=200, tol=0.001, score=0.793, total=   0.1s\n",
      "[CV] C=1, max_iter=200, tol=0.001 ....................................\n",
      "[CV] ........ C=1, max_iter=200, tol=0.001, score=0.797, total=   0.1s\n",
      "[CV] C=1, max_iter=200, tol=0.001 ....................................\n",
      "[CV] ........ C=1, max_iter=200, tol=0.001, score=0.775, total=   0.1s\n",
      "[CV] C=1, max_iter=200, tol=0.005 ....................................\n",
      "[CV] ........ C=1, max_iter=200, tol=0.005, score=0.763, total=   0.1s\n",
      "[CV] C=1, max_iter=200, tol=0.005 ....................................\n",
      "[CV] ........ C=1, max_iter=200, tol=0.005, score=0.771, total=   0.3s\n",
      "[CV] C=1, max_iter=200, tol=0.005 ....................................\n",
      "[CV] ........ C=1, max_iter=200, tol=0.005, score=0.793, total=   0.4s\n",
      "[CV] C=1, max_iter=200, tol=0.005 ....................................\n",
      "[CV] ........ C=1, max_iter=200, tol=0.005, score=0.797, total=   0.1s\n",
      "[CV] C=1, max_iter=200, tol=0.005 ....................................\n",
      "[CV] ........ C=1, max_iter=200, tol=0.005, score=0.775, total=   0.3s\n",
      "[CV] C=1, max_iter=300, tol=0.0001 ...................................\n",
      "[CV] ....... C=1, max_iter=300, tol=0.0001, score=0.763, total=   0.2s\n",
      "[CV] C=1, max_iter=300, tol=0.0001 ...................................\n",
      "[CV] ....... C=1, max_iter=300, tol=0.0001, score=0.771, total=   0.1s\n",
      "[CV] C=1, max_iter=300, tol=0.0001 ...................................\n",
      "[CV] ....... C=1, max_iter=300, tol=0.0001, score=0.793, total=   0.1s\n",
      "[CV] C=1, max_iter=300, tol=0.0001 ...................................\n",
      "[CV] ....... C=1, max_iter=300, tol=0.0001, score=0.797, total=   0.1s\n",
      "[CV] C=1, max_iter=300, tol=0.0001 ...................................\n",
      "[CV] ....... C=1, max_iter=300, tol=0.0001, score=0.775, total=   0.1s\n",
      "[CV] C=1, max_iter=300, tol=0.001 ....................................\n",
      "[CV] ........ C=1, max_iter=300, tol=0.001, score=0.763, total=   0.1s\n",
      "[CV] C=1, max_iter=300, tol=0.001 ....................................\n",
      "[CV] ........ C=1, max_iter=300, tol=0.001, score=0.771, total=   0.1s\n",
      "[CV] C=1, max_iter=300, tol=0.001 ....................................\n",
      "[CV] ........ C=1, max_iter=300, tol=0.001, score=0.793, total=   0.1s\n",
      "[CV] C=1, max_iter=300, tol=0.001 ....................................\n",
      "[CV] ........ C=1, max_iter=300, tol=0.001, score=0.797, total=   0.0s\n",
      "[CV] C=1, max_iter=300, tol=0.001 ....................................\n",
      "[CV] ........ C=1, max_iter=300, tol=0.001, score=0.775, total=   0.1s\n",
      "[CV] C=1, max_iter=300, tol=0.005 ....................................\n",
      "[CV] ........ C=1, max_iter=300, tol=0.005, score=0.763, total=   0.1s\n",
      "[CV] C=1, max_iter=300, tol=0.005 ....................................\n",
      "[CV] ........ C=1, max_iter=300, tol=0.005, score=0.771, total=   0.1s\n",
      "[CV] C=1, max_iter=300, tol=0.005 ....................................\n",
      "[CV] ........ C=1, max_iter=300, tol=0.005, score=0.793, total=   0.5s\n",
      "[CV] C=1, max_iter=300, tol=0.005 ....................................\n",
      "[CV] ........ C=1, max_iter=300, tol=0.005, score=0.797, total=   0.4s\n",
      "[CV] C=1, max_iter=300, tol=0.005 ....................................\n",
      "[CV] ........ C=1, max_iter=300, tol=0.005, score=0.775, total=   0.6s\n",
      "[CV] C=5, max_iter=100, tol=0.0001 ...................................\n",
      "[CV] ....... C=5, max_iter=100, tol=0.0001, score=0.801, total=   0.3s\n",
      "[CV] C=5, max_iter=100, tol=0.0001 ...................................\n",
      "[CV] ....... C=5, max_iter=100, tol=0.0001, score=0.804, total=   0.1s\n",
      "[CV] C=5, max_iter=100, tol=0.0001 ...................................\n",
      "[CV] ....... C=5, max_iter=100, tol=0.0001, score=0.823, total=   0.2s\n",
      "[CV] C=5, max_iter=100, tol=0.0001 ...................................\n",
      "[CV] ....... C=5, max_iter=100, tol=0.0001, score=0.815, total=   0.1s\n",
      "[CV] C=5, max_iter=100, tol=0.0001 ...................................\n",
      "[CV] ....... C=5, max_iter=100, tol=0.0001, score=0.809, total=   0.7s\n",
      "[CV] C=5, max_iter=100, tol=0.001 ....................................\n",
      "[CV] ........ C=5, max_iter=100, tol=0.001, score=0.801, total=   0.1s\n",
      "[CV] C=5, max_iter=100, tol=0.001 ....................................\n",
      "[CV] ........ C=5, max_iter=100, tol=0.001, score=0.804, total=   0.1s\n",
      "[CV] C=5, max_iter=100, tol=0.001 ....................................\n",
      "[CV] ........ C=5, max_iter=100, tol=0.001, score=0.823, total=   0.1s\n",
      "[CV] C=5, max_iter=100, tol=0.001 ....................................\n",
      "[CV] ........ C=5, max_iter=100, tol=0.001, score=0.815, total=   0.1s\n",
      "[CV] C=5, max_iter=100, tol=0.001 ....................................\n",
      "[CV] ........ C=5, max_iter=100, tol=0.001, score=0.809, total=   0.1s\n",
      "[CV] C=5, max_iter=100, tol=0.005 ....................................\n",
      "[CV] ........ C=5, max_iter=100, tol=0.005, score=0.801, total=   0.1s\n",
      "[CV] C=5, max_iter=100, tol=0.005 ....................................\n",
      "[CV] ........ C=5, max_iter=100, tol=0.005, score=0.804, total=   0.1s\n",
      "[CV] C=5, max_iter=100, tol=0.005 ....................................\n",
      "[CV] ........ C=5, max_iter=100, tol=0.005, score=0.823, total=   0.1s\n",
      "[CV] C=5, max_iter=100, tol=0.005 ....................................\n",
      "[CV] ........ C=5, max_iter=100, tol=0.005, score=0.815, total=   0.1s\n",
      "[CV] C=5, max_iter=100, tol=0.005 ....................................\n",
      "[CV] ........ C=5, max_iter=100, tol=0.005, score=0.809, total=   0.1s\n",
      "[CV] C=5, max_iter=200, tol=0.0001 ...................................\n",
      "[CV] ....... C=5, max_iter=200, tol=0.0001, score=0.801, total=   0.1s\n",
      "[CV] C=5, max_iter=200, tol=0.0001 ...................................\n"
     ]
    },
    {
     "name": "stdout",
     "output_type": "stream",
     "text": [
      "[CV] ....... C=5, max_iter=200, tol=0.0001, score=0.804, total=   0.1s\n",
      "[CV] C=5, max_iter=200, tol=0.0001 ...................................\n",
      "[CV] ....... C=5, max_iter=200, tol=0.0001, score=0.823, total=   0.1s\n",
      "[CV] C=5, max_iter=200, tol=0.0001 ...................................\n",
      "[CV] ....... C=5, max_iter=200, tol=0.0001, score=0.815, total=   0.1s\n",
      "[CV] C=5, max_iter=200, tol=0.0001 ...................................\n",
      "[CV] ....... C=5, max_iter=200, tol=0.0001, score=0.809, total=   0.2s\n",
      "[CV] C=5, max_iter=200, tol=0.001 ....................................\n",
      "[CV] ........ C=5, max_iter=200, tol=0.001, score=0.801, total=   0.1s\n",
      "[CV] C=5, max_iter=200, tol=0.001 ....................................\n",
      "[CV] ........ C=5, max_iter=200, tol=0.001, score=0.804, total=   0.5s\n",
      "[CV] C=5, max_iter=200, tol=0.001 ....................................\n",
      "[CV] ........ C=5, max_iter=200, tol=0.001, score=0.823, total=   0.1s\n",
      "[CV] C=5, max_iter=200, tol=0.001 ....................................\n",
      "[CV] ........ C=5, max_iter=200, tol=0.001, score=0.815, total=   0.1s\n",
      "[CV] C=5, max_iter=200, tol=0.001 ....................................\n",
      "[CV] ........ C=5, max_iter=200, tol=0.001, score=0.809, total=   0.1s\n",
      "[CV] C=5, max_iter=200, tol=0.005 ....................................\n",
      "[CV] ........ C=5, max_iter=200, tol=0.005, score=0.801, total=   0.3s\n",
      "[CV] C=5, max_iter=200, tol=0.005 ....................................\n",
      "[CV] ........ C=5, max_iter=200, tol=0.005, score=0.804, total=   0.1s\n",
      "[CV] C=5, max_iter=200, tol=0.005 ....................................\n",
      "[CV] ........ C=5, max_iter=200, tol=0.005, score=0.823, total=   0.1s\n",
      "[CV] C=5, max_iter=200, tol=0.005 ....................................\n",
      "[CV] ........ C=5, max_iter=200, tol=0.005, score=0.815, total=   0.1s\n",
      "[CV] C=5, max_iter=200, tol=0.005 ....................................\n",
      "[CV] ........ C=5, max_iter=200, tol=0.005, score=0.809, total=   0.1s\n",
      "[CV] C=5, max_iter=300, tol=0.0001 ...................................\n",
      "[CV] ....... C=5, max_iter=300, tol=0.0001, score=0.801, total=   0.1s\n",
      "[CV] C=5, max_iter=300, tol=0.0001 ...................................\n",
      "[CV] ....... C=5, max_iter=300, tol=0.0001, score=0.804, total=   0.1s\n",
      "[CV] C=5, max_iter=300, tol=0.0001 ...................................\n",
      "[CV] ....... C=5, max_iter=300, tol=0.0001, score=0.823, total=   0.1s\n",
      "[CV] C=5, max_iter=300, tol=0.0001 ...................................\n",
      "[CV] ....... C=5, max_iter=300, tol=0.0001, score=0.815, total=   0.1s\n",
      "[CV] C=5, max_iter=300, tol=0.0001 ...................................\n",
      "[CV] ....... C=5, max_iter=300, tol=0.0001, score=0.809, total=   0.1s\n",
      "[CV] C=5, max_iter=300, tol=0.001 ....................................\n",
      "[CV] ........ C=5, max_iter=300, tol=0.001, score=0.801, total=   0.1s\n",
      "[CV] C=5, max_iter=300, tol=0.001 ....................................\n",
      "[CV] ........ C=5, max_iter=300, tol=0.001, score=0.804, total=   0.1s\n",
      "[CV] C=5, max_iter=300, tol=0.001 ....................................\n",
      "[CV] ........ C=5, max_iter=300, tol=0.001, score=0.823, total=   0.1s\n",
      "[CV] C=5, max_iter=300, tol=0.001 ....................................\n",
      "[CV] ........ C=5, max_iter=300, tol=0.001, score=0.815, total=   0.1s\n",
      "[CV] C=5, max_iter=300, tol=0.001 ....................................\n",
      "[CV] ........ C=5, max_iter=300, tol=0.001, score=0.809, total=   0.2s\n",
      "[CV] C=5, max_iter=300, tol=0.005 ....................................\n",
      "[CV] ........ C=5, max_iter=300, tol=0.005, score=0.801, total=   0.1s\n",
      "[CV] C=5, max_iter=300, tol=0.005 ....................................\n",
      "[CV] ........ C=5, max_iter=300, tol=0.005, score=0.804, total=   0.1s\n",
      "[CV] C=5, max_iter=300, tol=0.005 ....................................\n",
      "[CV] ........ C=5, max_iter=300, tol=0.005, score=0.823, total=   0.1s\n",
      "[CV] C=5, max_iter=300, tol=0.005 ....................................\n",
      "[CV] ........ C=5, max_iter=300, tol=0.005, score=0.815, total=   0.1s\n",
      "[CV] C=5, max_iter=300, tol=0.005 ....................................\n",
      "[CV] ........ C=5, max_iter=300, tol=0.005, score=0.809, total=   0.1s\n",
      "[CV] C=10, max_iter=100, tol=0.0001 ..................................\n",
      "[CV] ...... C=10, max_iter=100, tol=0.0001, score=0.807, total=   0.2s\n",
      "[CV] C=10, max_iter=100, tol=0.0001 ..................................\n",
      "[CV] ...... C=10, max_iter=100, tol=0.0001, score=0.815, total=   0.1s\n",
      "[CV] C=10, max_iter=100, tol=0.0001 ..................................\n"
     ]
    },
    {
     "name": "stderr",
     "output_type": "stream",
     "text": [
      "C:\\Users\\BANDANA\\anaconda3\\lib\\site-packages\\sklearn\\linear_model\\_logistic.py:940: ConvergenceWarning: lbfgs failed to converge (status=1):\n",
      "STOP: TOTAL NO. of ITERATIONS REACHED LIMIT.\n",
      "\n",
      "Increase the number of iterations (max_iter) or scale the data as shown in:\n",
      "    https://scikit-learn.org/stable/modules/preprocessing.html\n",
      "Please also refer to the documentation for alternative solver options:\n",
      "    https://scikit-learn.org/stable/modules/linear_model.html#logistic-regression\n",
      "  extra_warning_msg=_LOGISTIC_SOLVER_CONVERGENCE_MSG)\n",
      "C:\\Users\\BANDANA\\anaconda3\\lib\\site-packages\\sklearn\\linear_model\\_logistic.py:940: ConvergenceWarning: lbfgs failed to converge (status=1):\n",
      "STOP: TOTAL NO. of ITERATIONS REACHED LIMIT.\n",
      "\n",
      "Increase the number of iterations (max_iter) or scale the data as shown in:\n",
      "    https://scikit-learn.org/stable/modules/preprocessing.html\n",
      "Please also refer to the documentation for alternative solver options:\n",
      "    https://scikit-learn.org/stable/modules/linear_model.html#logistic-regression\n",
      "  extra_warning_msg=_LOGISTIC_SOLVER_CONVERGENCE_MSG)\n"
     ]
    },
    {
     "name": "stdout",
     "output_type": "stream",
     "text": [
      "[CV] ...... C=10, max_iter=100, tol=0.0001, score=0.839, total=   0.2s\n",
      "[CV] C=10, max_iter=100, tol=0.0001 ..................................\n",
      "[CV] ...... C=10, max_iter=100, tol=0.0001, score=0.821, total=   0.1s\n",
      "[CV] C=10, max_iter=100, tol=0.0001 ..................................\n",
      "[CV] ...... C=10, max_iter=100, tol=0.0001, score=0.818, total=   0.1s\n",
      "[CV] C=10, max_iter=100, tol=0.001 ...................................\n",
      "[CV] ....... C=10, max_iter=100, tol=0.001, score=0.807, total=   0.1s\n",
      "[CV] C=10, max_iter=100, tol=0.001 ...................................\n"
     ]
    },
    {
     "name": "stderr",
     "output_type": "stream",
     "text": [
      "C:\\Users\\BANDANA\\anaconda3\\lib\\site-packages\\sklearn\\linear_model\\_logistic.py:940: ConvergenceWarning: lbfgs failed to converge (status=1):\n",
      "STOP: TOTAL NO. of ITERATIONS REACHED LIMIT.\n",
      "\n",
      "Increase the number of iterations (max_iter) or scale the data as shown in:\n",
      "    https://scikit-learn.org/stable/modules/preprocessing.html\n",
      "Please also refer to the documentation for alternative solver options:\n",
      "    https://scikit-learn.org/stable/modules/linear_model.html#logistic-regression\n",
      "  extra_warning_msg=_LOGISTIC_SOLVER_CONVERGENCE_MSG)\n",
      "C:\\Users\\BANDANA\\anaconda3\\lib\\site-packages\\sklearn\\linear_model\\_logistic.py:940: ConvergenceWarning: lbfgs failed to converge (status=1):\n",
      "STOP: TOTAL NO. of ITERATIONS REACHED LIMIT.\n",
      "\n",
      "Increase the number of iterations (max_iter) or scale the data as shown in:\n",
      "    https://scikit-learn.org/stable/modules/preprocessing.html\n",
      "Please also refer to the documentation for alternative solver options:\n",
      "    https://scikit-learn.org/stable/modules/linear_model.html#logistic-regression\n",
      "  extra_warning_msg=_LOGISTIC_SOLVER_CONVERGENCE_MSG)\n"
     ]
    },
    {
     "name": "stdout",
     "output_type": "stream",
     "text": [
      "[CV] ....... C=10, max_iter=100, tol=0.001, score=0.815, total=   0.2s\n",
      "[CV] C=10, max_iter=100, tol=0.001 ...................................\n",
      "[CV] ....... C=10, max_iter=100, tol=0.001, score=0.839, total=   0.2s\n",
      "[CV] C=10, max_iter=100, tol=0.001 ...................................\n",
      "[CV] ....... C=10, max_iter=100, tol=0.001, score=0.821, total=   0.2s\n",
      "[CV] C=10, max_iter=100, tol=0.001 ...................................\n",
      "[CV] ....... C=10, max_iter=100, tol=0.001, score=0.818, total=   0.1s\n",
      "[CV] C=10, max_iter=100, tol=0.005 ...................................\n",
      "[CV] ....... C=10, max_iter=100, tol=0.005, score=0.807, total=   0.2s\n",
      "[CV] C=10, max_iter=100, tol=0.005 ...................................\n",
      "[CV] ....... C=10, max_iter=100, tol=0.005, score=0.815, total=   0.2s\n",
      "[CV] C=10, max_iter=100, tol=0.005 ...................................\n"
     ]
    },
    {
     "name": "stderr",
     "output_type": "stream",
     "text": [
      "C:\\Users\\BANDANA\\anaconda3\\lib\\site-packages\\sklearn\\linear_model\\_logistic.py:940: ConvergenceWarning: lbfgs failed to converge (status=1):\n",
      "STOP: TOTAL NO. of ITERATIONS REACHED LIMIT.\n",
      "\n",
      "Increase the number of iterations (max_iter) or scale the data as shown in:\n",
      "    https://scikit-learn.org/stable/modules/preprocessing.html\n",
      "Please also refer to the documentation for alternative solver options:\n",
      "    https://scikit-learn.org/stable/modules/linear_model.html#logistic-regression\n",
      "  extra_warning_msg=_LOGISTIC_SOLVER_CONVERGENCE_MSG)\n",
      "C:\\Users\\BANDANA\\anaconda3\\lib\\site-packages\\sklearn\\linear_model\\_logistic.py:940: ConvergenceWarning: lbfgs failed to converge (status=1):\n",
      "STOP: TOTAL NO. of ITERATIONS REACHED LIMIT.\n",
      "\n",
      "Increase the number of iterations (max_iter) or scale the data as shown in:\n",
      "    https://scikit-learn.org/stable/modules/preprocessing.html\n",
      "Please also refer to the documentation for alternative solver options:\n",
      "    https://scikit-learn.org/stable/modules/linear_model.html#logistic-regression\n",
      "  extra_warning_msg=_LOGISTIC_SOLVER_CONVERGENCE_MSG)\n"
     ]
    },
    {
     "name": "stdout",
     "output_type": "stream",
     "text": [
      "[CV] ....... C=10, max_iter=100, tol=0.005, score=0.839, total=   0.2s\n",
      "[CV] C=10, max_iter=100, tol=0.005 ...................................\n",
      "[CV] ....... C=10, max_iter=100, tol=0.005, score=0.821, total=   0.1s\n",
      "[CV] C=10, max_iter=100, tol=0.005 ...................................\n",
      "[CV] ....... C=10, max_iter=100, tol=0.005, score=0.818, total=   0.1s\n",
      "[CV] C=10, max_iter=200, tol=0.0001 ..................................\n",
      "[CV] ...... C=10, max_iter=200, tol=0.0001, score=0.807, total=   0.1s\n",
      "[CV] C=10, max_iter=200, tol=0.0001 ..................................\n",
      "[CV] ...... C=10, max_iter=200, tol=0.0001, score=0.816, total=   0.2s\n",
      "[CV] C=10, max_iter=200, tol=0.0001 ..................................\n",
      "[CV] ...... C=10, max_iter=200, tol=0.0001, score=0.839, total=   0.1s\n",
      "[CV] C=10, max_iter=200, tol=0.0001 ..................................\n",
      "[CV] ...... C=10, max_iter=200, tol=0.0001, score=0.821, total=   0.1s\n",
      "[CV] C=10, max_iter=200, tol=0.0001 ..................................\n",
      "[CV] ...... C=10, max_iter=200, tol=0.0001, score=0.818, total=   0.1s\n",
      "[CV] C=10, max_iter=200, tol=0.001 ...................................\n",
      "[CV] ....... C=10, max_iter=200, tol=0.001, score=0.807, total=   0.2s\n",
      "[CV] C=10, max_iter=200, tol=0.001 ...................................\n",
      "[CV] ....... C=10, max_iter=200, tol=0.001, score=0.816, total=   0.2s\n",
      "[CV] C=10, max_iter=200, tol=0.001 ...................................\n",
      "[CV] ....... C=10, max_iter=200, tol=0.001, score=0.839, total=   0.2s\n",
      "[CV] C=10, max_iter=200, tol=0.001 ...................................\n",
      "[CV] ....... C=10, max_iter=200, tol=0.001, score=0.821, total=   0.1s\n",
      "[CV] C=10, max_iter=200, tol=0.001 ...................................\n",
      "[CV] ....... C=10, max_iter=200, tol=0.001, score=0.818, total=   0.1s\n",
      "[CV] C=10, max_iter=200, tol=0.005 ...................................\n",
      "[CV] ....... C=10, max_iter=200, tol=0.005, score=0.807, total=   0.2s\n",
      "[CV] C=10, max_iter=200, tol=0.005 ...................................\n",
      "[CV] ....... C=10, max_iter=200, tol=0.005, score=0.816, total=   0.2s\n",
      "[CV] C=10, max_iter=200, tol=0.005 ...................................\n",
      "[CV] ....... C=10, max_iter=200, tol=0.005, score=0.839, total=   0.1s\n",
      "[CV] C=10, max_iter=200, tol=0.005 ...................................\n",
      "[CV] ....... C=10, max_iter=200, tol=0.005, score=0.821, total=   0.1s\n",
      "[CV] C=10, max_iter=200, tol=0.005 ...................................\n",
      "[CV] ....... C=10, max_iter=200, tol=0.005, score=0.818, total=   0.1s\n",
      "[CV] C=10, max_iter=300, tol=0.0001 ..................................\n",
      "[CV] ...... C=10, max_iter=300, tol=0.0001, score=0.807, total=   0.1s\n",
      "[CV] C=10, max_iter=300, tol=0.0001 ..................................\n",
      "[CV] ...... C=10, max_iter=300, tol=0.0001, score=0.816, total=   0.2s\n",
      "[CV] C=10, max_iter=300, tol=0.0001 ..................................\n",
      "[CV] ...... C=10, max_iter=300, tol=0.0001, score=0.839, total=   0.2s\n",
      "[CV] C=10, max_iter=300, tol=0.0001 ..................................\n",
      "[CV] ...... C=10, max_iter=300, tol=0.0001, score=0.821, total=   0.1s\n",
      "[CV] C=10, max_iter=300, tol=0.0001 ..................................\n",
      "[CV] ...... C=10, max_iter=300, tol=0.0001, score=0.818, total=   0.1s\n",
      "[CV] C=10, max_iter=300, tol=0.001 ...................................\n",
      "[CV] ....... C=10, max_iter=300, tol=0.001, score=0.807, total=   0.2s\n",
      "[CV] C=10, max_iter=300, tol=0.001 ...................................\n",
      "[CV] ....... C=10, max_iter=300, tol=0.001, score=0.816, total=   0.3s\n",
      "[CV] C=10, max_iter=300, tol=0.001 ...................................\n",
      "[CV] ....... C=10, max_iter=300, tol=0.001, score=0.839, total=   0.2s\n",
      "[CV] C=10, max_iter=300, tol=0.001 ...................................\n",
      "[CV] ....... C=10, max_iter=300, tol=0.001, score=0.821, total=   0.1s\n",
      "[CV] C=10, max_iter=300, tol=0.001 ...................................\n",
      "[CV] ....... C=10, max_iter=300, tol=0.001, score=0.818, total=   0.1s\n",
      "[CV] C=10, max_iter=300, tol=0.005 ...................................\n",
      "[CV] ....... C=10, max_iter=300, tol=0.005, score=0.807, total=   0.1s\n",
      "[CV] C=10, max_iter=300, tol=0.005 ...................................\n",
      "[CV] ....... C=10, max_iter=300, tol=0.005, score=0.816, total=   0.2s\n",
      "[CV] C=10, max_iter=300, tol=0.005 ...................................\n",
      "[CV] ....... C=10, max_iter=300, tol=0.005, score=0.839, total=   0.2s\n",
      "[CV] C=10, max_iter=300, tol=0.005 ...................................\n",
      "[CV] ....... C=10, max_iter=300, tol=0.005, score=0.821, total=   0.1s\n",
      "[CV] C=10, max_iter=300, tol=0.005 ...................................\n",
      "[CV] ....... C=10, max_iter=300, tol=0.005, score=0.818, total=   0.1s\n",
      "[CV] C=50, max_iter=100, tol=0.0001 ..................................\n",
      "[CV] ...... C=50, max_iter=100, tol=0.0001, score=0.833, total=   0.2s\n",
      "[CV] C=50, max_iter=100, tol=0.0001 ..................................\n"
     ]
    },
    {
     "name": "stderr",
     "output_type": "stream",
     "text": [
      "C:\\Users\\BANDANA\\anaconda3\\lib\\site-packages\\sklearn\\linear_model\\_logistic.py:940: ConvergenceWarning: lbfgs failed to converge (status=1):\n",
      "STOP: TOTAL NO. of ITERATIONS REACHED LIMIT.\n",
      "\n",
      "Increase the number of iterations (max_iter) or scale the data as shown in:\n",
      "    https://scikit-learn.org/stable/modules/preprocessing.html\n",
      "Please also refer to the documentation for alternative solver options:\n",
      "    https://scikit-learn.org/stable/modules/linear_model.html#logistic-regression\n",
      "  extra_warning_msg=_LOGISTIC_SOLVER_CONVERGENCE_MSG)\n",
      "C:\\Users\\BANDANA\\anaconda3\\lib\\site-packages\\sklearn\\linear_model\\_logistic.py:940: ConvergenceWarning: lbfgs failed to converge (status=1):\n",
      "STOP: TOTAL NO. of ITERATIONS REACHED LIMIT.\n",
      "\n",
      "Increase the number of iterations (max_iter) or scale the data as shown in:\n",
      "    https://scikit-learn.org/stable/modules/preprocessing.html\n",
      "Please also refer to the documentation for alternative solver options:\n",
      "    https://scikit-learn.org/stable/modules/linear_model.html#logistic-regression\n",
      "  extra_warning_msg=_LOGISTIC_SOLVER_CONVERGENCE_MSG)\n"
     ]
    },
    {
     "name": "stdout",
     "output_type": "stream",
     "text": [
      "[CV] ...... C=50, max_iter=100, tol=0.0001, score=0.836, total=   0.2s\n",
      "[CV] C=50, max_iter=100, tol=0.0001 ..................................\n"
     ]
    },
    {
     "name": "stderr",
     "output_type": "stream",
     "text": [
      "C:\\Users\\BANDANA\\anaconda3\\lib\\site-packages\\sklearn\\linear_model\\_logistic.py:940: ConvergenceWarning: lbfgs failed to converge (status=1):\n",
      "STOP: TOTAL NO. of ITERATIONS REACHED LIMIT.\n",
      "\n",
      "Increase the number of iterations (max_iter) or scale the data as shown in:\n",
      "    https://scikit-learn.org/stable/modules/preprocessing.html\n",
      "Please also refer to the documentation for alternative solver options:\n",
      "    https://scikit-learn.org/stable/modules/linear_model.html#logistic-regression\n",
      "  extra_warning_msg=_LOGISTIC_SOLVER_CONVERGENCE_MSG)\n",
      "C:\\Users\\BANDANA\\anaconda3\\lib\\site-packages\\sklearn\\linear_model\\_logistic.py:940: ConvergenceWarning: lbfgs failed to converge (status=1):\n",
      "STOP: TOTAL NO. of ITERATIONS REACHED LIMIT.\n",
      "\n",
      "Increase the number of iterations (max_iter) or scale the data as shown in:\n",
      "    https://scikit-learn.org/stable/modules/preprocessing.html\n",
      "Please also refer to the documentation for alternative solver options:\n",
      "    https://scikit-learn.org/stable/modules/linear_model.html#logistic-regression\n",
      "  extra_warning_msg=_LOGISTIC_SOLVER_CONVERGENCE_MSG)\n"
     ]
    },
    {
     "name": "stdout",
     "output_type": "stream",
     "text": [
      "[CV] ...... C=50, max_iter=100, tol=0.0001, score=0.850, total=   0.2s\n",
      "[CV] C=50, max_iter=100, tol=0.0001 ..................................\n",
      "[CV] ...... C=50, max_iter=100, tol=0.0001, score=0.850, total=   0.1s\n",
      "[CV] C=50, max_iter=100, tol=0.0001 ..................................\n"
     ]
    },
    {
     "name": "stderr",
     "output_type": "stream",
     "text": [
      "C:\\Users\\BANDANA\\anaconda3\\lib\\site-packages\\sklearn\\linear_model\\_logistic.py:940: ConvergenceWarning: lbfgs failed to converge (status=1):\n",
      "STOP: TOTAL NO. of ITERATIONS REACHED LIMIT.\n",
      "\n",
      "Increase the number of iterations (max_iter) or scale the data as shown in:\n",
      "    https://scikit-learn.org/stable/modules/preprocessing.html\n",
      "Please also refer to the documentation for alternative solver options:\n",
      "    https://scikit-learn.org/stable/modules/linear_model.html#logistic-regression\n",
      "  extra_warning_msg=_LOGISTIC_SOLVER_CONVERGENCE_MSG)\n",
      "C:\\Users\\BANDANA\\anaconda3\\lib\\site-packages\\sklearn\\linear_model\\_logistic.py:940: ConvergenceWarning: lbfgs failed to converge (status=1):\n",
      "STOP: TOTAL NO. of ITERATIONS REACHED LIMIT.\n",
      "\n",
      "Increase the number of iterations (max_iter) or scale the data as shown in:\n",
      "    https://scikit-learn.org/stable/modules/preprocessing.html\n",
      "Please also refer to the documentation for alternative solver options:\n",
      "    https://scikit-learn.org/stable/modules/linear_model.html#logistic-regression\n",
      "  extra_warning_msg=_LOGISTIC_SOLVER_CONVERGENCE_MSG)\n"
     ]
    },
    {
     "name": "stdout",
     "output_type": "stream",
     "text": [
      "[CV] ...... C=50, max_iter=100, tol=0.0001, score=0.830, total=   0.2s\n",
      "[CV] C=50, max_iter=100, tol=0.001 ...................................\n",
      "[CV] ....... C=50, max_iter=100, tol=0.001, score=0.833, total=   0.1s\n",
      "[CV] C=50, max_iter=100, tol=0.001 ...................................\n"
     ]
    },
    {
     "name": "stderr",
     "output_type": "stream",
     "text": [
      "C:\\Users\\BANDANA\\anaconda3\\lib\\site-packages\\sklearn\\linear_model\\_logistic.py:940: ConvergenceWarning: lbfgs failed to converge (status=1):\n",
      "STOP: TOTAL NO. of ITERATIONS REACHED LIMIT.\n",
      "\n",
      "Increase the number of iterations (max_iter) or scale the data as shown in:\n",
      "    https://scikit-learn.org/stable/modules/preprocessing.html\n",
      "Please also refer to the documentation for alternative solver options:\n",
      "    https://scikit-learn.org/stable/modules/linear_model.html#logistic-regression\n",
      "  extra_warning_msg=_LOGISTIC_SOLVER_CONVERGENCE_MSG)\n",
      "C:\\Users\\BANDANA\\anaconda3\\lib\\site-packages\\sklearn\\linear_model\\_logistic.py:940: ConvergenceWarning: lbfgs failed to converge (status=1):\n",
      "STOP: TOTAL NO. of ITERATIONS REACHED LIMIT.\n",
      "\n",
      "Increase the number of iterations (max_iter) or scale the data as shown in:\n",
      "    https://scikit-learn.org/stable/modules/preprocessing.html\n",
      "Please also refer to the documentation for alternative solver options:\n",
      "    https://scikit-learn.org/stable/modules/linear_model.html#logistic-regression\n",
      "  extra_warning_msg=_LOGISTIC_SOLVER_CONVERGENCE_MSG)\n"
     ]
    },
    {
     "name": "stdout",
     "output_type": "stream",
     "text": [
      "[CV] ....... C=50, max_iter=100, tol=0.001, score=0.836, total=   0.2s\n",
      "[CV] C=50, max_iter=100, tol=0.001 ...................................\n",
      "[CV] ....... C=50, max_iter=100, tol=0.001, score=0.850, total=   0.2s\n",
      "[CV] C=50, max_iter=100, tol=0.001 ...................................\n"
     ]
    },
    {
     "name": "stderr",
     "output_type": "stream",
     "text": [
      "C:\\Users\\BANDANA\\anaconda3\\lib\\site-packages\\sklearn\\linear_model\\_logistic.py:940: ConvergenceWarning: lbfgs failed to converge (status=1):\n",
      "STOP: TOTAL NO. of ITERATIONS REACHED LIMIT.\n",
      "\n",
      "Increase the number of iterations (max_iter) or scale the data as shown in:\n",
      "    https://scikit-learn.org/stable/modules/preprocessing.html\n",
      "Please also refer to the documentation for alternative solver options:\n",
      "    https://scikit-learn.org/stable/modules/linear_model.html#logistic-regression\n",
      "  extra_warning_msg=_LOGISTIC_SOLVER_CONVERGENCE_MSG)\n",
      "C:\\Users\\BANDANA\\anaconda3\\lib\\site-packages\\sklearn\\linear_model\\_logistic.py:940: ConvergenceWarning: lbfgs failed to converge (status=1):\n",
      "STOP: TOTAL NO. of ITERATIONS REACHED LIMIT.\n",
      "\n",
      "Increase the number of iterations (max_iter) or scale the data as shown in:\n",
      "    https://scikit-learn.org/stable/modules/preprocessing.html\n",
      "Please also refer to the documentation for alternative solver options:\n",
      "    https://scikit-learn.org/stable/modules/linear_model.html#logistic-regression\n",
      "  extra_warning_msg=_LOGISTIC_SOLVER_CONVERGENCE_MSG)\n"
     ]
    },
    {
     "name": "stdout",
     "output_type": "stream",
     "text": [
      "[CV] ....... C=50, max_iter=100, tol=0.001, score=0.850, total=   0.2s\n",
      "[CV] C=50, max_iter=100, tol=0.001 ...................................\n",
      "[CV] ....... C=50, max_iter=100, tol=0.001, score=0.830, total=   0.1s\n",
      "[CV] C=50, max_iter=100, tol=0.005 ...................................\n"
     ]
    },
    {
     "name": "stderr",
     "output_type": "stream",
     "text": [
      "C:\\Users\\BANDANA\\anaconda3\\lib\\site-packages\\sklearn\\linear_model\\_logistic.py:940: ConvergenceWarning: lbfgs failed to converge (status=1):\n",
      "STOP: TOTAL NO. of ITERATIONS REACHED LIMIT.\n",
      "\n",
      "Increase the number of iterations (max_iter) or scale the data as shown in:\n",
      "    https://scikit-learn.org/stable/modules/preprocessing.html\n",
      "Please also refer to the documentation for alternative solver options:\n",
      "    https://scikit-learn.org/stable/modules/linear_model.html#logistic-regression\n",
      "  extra_warning_msg=_LOGISTIC_SOLVER_CONVERGENCE_MSG)\n",
      "C:\\Users\\BANDANA\\anaconda3\\lib\\site-packages\\sklearn\\linear_model\\_logistic.py:940: ConvergenceWarning: lbfgs failed to converge (status=1):\n",
      "STOP: TOTAL NO. of ITERATIONS REACHED LIMIT.\n",
      "\n",
      "Increase the number of iterations (max_iter) or scale the data as shown in:\n",
      "    https://scikit-learn.org/stable/modules/preprocessing.html\n",
      "Please also refer to the documentation for alternative solver options:\n",
      "    https://scikit-learn.org/stable/modules/linear_model.html#logistic-regression\n",
      "  extra_warning_msg=_LOGISTIC_SOLVER_CONVERGENCE_MSG)\n"
     ]
    },
    {
     "name": "stdout",
     "output_type": "stream",
     "text": [
      "[CV] ....... C=50, max_iter=100, tol=0.005, score=0.833, total=   0.2s\n",
      "[CV] C=50, max_iter=100, tol=0.005 ...................................\n",
      "[CV] ....... C=50, max_iter=100, tol=0.005, score=0.836, total=   0.1s\n",
      "[CV] C=50, max_iter=100, tol=0.005 ...................................\n"
     ]
    },
    {
     "name": "stderr",
     "output_type": "stream",
     "text": [
      "C:\\Users\\BANDANA\\anaconda3\\lib\\site-packages\\sklearn\\linear_model\\_logistic.py:940: ConvergenceWarning: lbfgs failed to converge (status=1):\n",
      "STOP: TOTAL NO. of ITERATIONS REACHED LIMIT.\n",
      "\n",
      "Increase the number of iterations (max_iter) or scale the data as shown in:\n",
      "    https://scikit-learn.org/stable/modules/preprocessing.html\n",
      "Please also refer to the documentation for alternative solver options:\n",
      "    https://scikit-learn.org/stable/modules/linear_model.html#logistic-regression\n",
      "  extra_warning_msg=_LOGISTIC_SOLVER_CONVERGENCE_MSG)\n",
      "C:\\Users\\BANDANA\\anaconda3\\lib\\site-packages\\sklearn\\linear_model\\_logistic.py:940: ConvergenceWarning: lbfgs failed to converge (status=1):\n",
      "STOP: TOTAL NO. of ITERATIONS REACHED LIMIT.\n",
      "\n",
      "Increase the number of iterations (max_iter) or scale the data as shown in:\n",
      "    https://scikit-learn.org/stable/modules/preprocessing.html\n",
      "Please also refer to the documentation for alternative solver options:\n",
      "    https://scikit-learn.org/stable/modules/linear_model.html#logistic-regression\n",
      "  extra_warning_msg=_LOGISTIC_SOLVER_CONVERGENCE_MSG)\n"
     ]
    },
    {
     "name": "stdout",
     "output_type": "stream",
     "text": [
      "[CV] ....... C=50, max_iter=100, tol=0.005, score=0.850, total=   0.2s\n",
      "[CV] C=50, max_iter=100, tol=0.005 ...................................\n",
      "[CV] ....... C=50, max_iter=100, tol=0.005, score=0.850, total=   0.1s\n",
      "[CV] C=50, max_iter=100, tol=0.005 ...................................\n"
     ]
    },
    {
     "name": "stderr",
     "output_type": "stream",
     "text": [
      "C:\\Users\\BANDANA\\anaconda3\\lib\\site-packages\\sklearn\\linear_model\\_logistic.py:940: ConvergenceWarning: lbfgs failed to converge (status=1):\n",
      "STOP: TOTAL NO. of ITERATIONS REACHED LIMIT.\n",
      "\n",
      "Increase the number of iterations (max_iter) or scale the data as shown in:\n",
      "    https://scikit-learn.org/stable/modules/preprocessing.html\n",
      "Please also refer to the documentation for alternative solver options:\n",
      "    https://scikit-learn.org/stable/modules/linear_model.html#logistic-regression\n",
      "  extra_warning_msg=_LOGISTIC_SOLVER_CONVERGENCE_MSG)\n"
     ]
    },
    {
     "name": "stdout",
     "output_type": "stream",
     "text": [
      "[CV] ....... C=50, max_iter=100, tol=0.005, score=0.830, total=   0.2s\n",
      "[CV] C=50, max_iter=200, tol=0.0001 ..................................\n",
      "[CV] ...... C=50, max_iter=200, tol=0.0001, score=0.828, total=   0.3s\n",
      "[CV] C=50, max_iter=200, tol=0.0001 ..................................\n",
      "[CV] ...... C=50, max_iter=200, tol=0.0001, score=0.836, total=   0.2s\n",
      "[CV] C=50, max_iter=200, tol=0.0001 ..................................\n",
      "[CV] ...... C=50, max_iter=200, tol=0.0001, score=0.850, total=   0.2s\n",
      "[CV] C=50, max_iter=200, tol=0.0001 ..................................\n",
      "[CV] ...... C=50, max_iter=200, tol=0.0001, score=0.850, total=   0.3s\n",
      "[CV] C=50, max_iter=200, tol=0.0001 ..................................\n",
      "[CV] ...... C=50, max_iter=200, tol=0.0001, score=0.829, total=   0.4s\n",
      "[CV] C=50, max_iter=200, tol=0.001 ...................................\n",
      "[CV] ....... C=50, max_iter=200, tol=0.001, score=0.828, total=   0.4s\n",
      "[CV] C=50, max_iter=200, tol=0.001 ...................................\n",
      "[CV] ....... C=50, max_iter=200, tol=0.001, score=0.836, total=   0.2s\n",
      "[CV] C=50, max_iter=200, tol=0.001 ...................................\n",
      "[CV] ....... C=50, max_iter=200, tol=0.001, score=0.850, total=   0.2s\n",
      "[CV] C=50, max_iter=200, tol=0.001 ...................................\n",
      "[CV] ....... C=50, max_iter=200, tol=0.001, score=0.850, total=   0.2s\n",
      "[CV] C=50, max_iter=200, tol=0.001 ...................................\n",
      "[CV] ....... C=50, max_iter=200, tol=0.001, score=0.829, total=   0.2s\n",
      "[CV] C=50, max_iter=200, tol=0.005 ...................................\n",
      "[CV] ....... C=50, max_iter=200, tol=0.005, score=0.828, total=   0.3s\n",
      "[CV] C=50, max_iter=200, tol=0.005 ...................................\n",
      "[CV] ....... C=50, max_iter=200, tol=0.005, score=0.836, total=   0.3s\n",
      "[CV] C=50, max_iter=200, tol=0.005 ...................................\n",
      "[CV] ....... C=50, max_iter=200, tol=0.005, score=0.850, total=   0.2s\n",
      "[CV] C=50, max_iter=200, tol=0.005 ...................................\n",
      "[CV] ....... C=50, max_iter=200, tol=0.005, score=0.850, total=   0.2s\n",
      "[CV] C=50, max_iter=200, tol=0.005 ...................................\n",
      "[CV] ....... C=50, max_iter=200, tol=0.005, score=0.829, total=   0.2s\n",
      "[CV] C=50, max_iter=300, tol=0.0001 ..................................\n",
      "[CV] ...... C=50, max_iter=300, tol=0.0001, score=0.828, total=   0.3s\n",
      "[CV] C=50, max_iter=300, tol=0.0001 ..................................\n",
      "[CV] ...... C=50, max_iter=300, tol=0.0001, score=0.836, total=   0.2s\n",
      "[CV] C=50, max_iter=300, tol=0.0001 ..................................\n",
      "[CV] ...... C=50, max_iter=300, tol=0.0001, score=0.850, total=   0.3s\n",
      "[CV] C=50, max_iter=300, tol=0.0001 ..................................\n",
      "[CV] ...... C=50, max_iter=300, tol=0.0001, score=0.850, total=   0.2s\n",
      "[CV] C=50, max_iter=300, tol=0.0001 ..................................\n",
      "[CV] ...... C=50, max_iter=300, tol=0.0001, score=0.829, total=   0.2s\n",
      "[CV] C=50, max_iter=300, tol=0.001 ...................................\n",
      "[CV] ....... C=50, max_iter=300, tol=0.001, score=0.828, total=   0.3s\n",
      "[CV] C=50, max_iter=300, tol=0.001 ...................................\n",
      "[CV] ....... C=50, max_iter=300, tol=0.001, score=0.836, total=   0.2s\n",
      "[CV] C=50, max_iter=300, tol=0.001 ...................................\n",
      "[CV] ....... C=50, max_iter=300, tol=0.001, score=0.850, total=   0.2s\n",
      "[CV] C=50, max_iter=300, tol=0.001 ...................................\n",
      "[CV] ....... C=50, max_iter=300, tol=0.001, score=0.850, total=   0.2s\n",
      "[CV] C=50, max_iter=300, tol=0.001 ...................................\n",
      "[CV] ....... C=50, max_iter=300, tol=0.001, score=0.829, total=   0.2s\n",
      "[CV] C=50, max_iter=300, tol=0.005 ...................................\n",
      "[CV] ....... C=50, max_iter=300, tol=0.005, score=0.828, total=   0.3s\n",
      "[CV] C=50, max_iter=300, tol=0.005 ...................................\n",
      "[CV] ....... C=50, max_iter=300, tol=0.005, score=0.836, total=   0.2s\n",
      "[CV] C=50, max_iter=300, tol=0.005 ...................................\n",
      "[CV] ....... C=50, max_iter=300, tol=0.005, score=0.850, total=   0.2s\n",
      "[CV] C=50, max_iter=300, tol=0.005 ...................................\n",
      "[CV] ....... C=50, max_iter=300, tol=0.005, score=0.850, total=   0.2s\n",
      "[CV] C=50, max_iter=300, tol=0.005 ...................................\n",
      "[CV] ....... C=50, max_iter=300, tol=0.005, score=0.829, total=   0.2s\n",
      "[CV] C=100, max_iter=100, tol=0.0001 .................................\n",
      "[CV] ..... C=100, max_iter=100, tol=0.0001, score=0.830, total=   0.2s\n",
      "[CV] C=100, max_iter=100, tol=0.0001 .................................\n"
     ]
    },
    {
     "name": "stderr",
     "output_type": "stream",
     "text": [
      "C:\\Users\\BANDANA\\anaconda3\\lib\\site-packages\\sklearn\\linear_model\\_logistic.py:940: ConvergenceWarning: lbfgs failed to converge (status=1):\n",
      "STOP: TOTAL NO. of ITERATIONS REACHED LIMIT.\n",
      "\n",
      "Increase the number of iterations (max_iter) or scale the data as shown in:\n",
      "    https://scikit-learn.org/stable/modules/preprocessing.html\n",
      "Please also refer to the documentation for alternative solver options:\n",
      "    https://scikit-learn.org/stable/modules/linear_model.html#logistic-regression\n",
      "  extra_warning_msg=_LOGISTIC_SOLVER_CONVERGENCE_MSG)\n",
      "C:\\Users\\BANDANA\\anaconda3\\lib\\site-packages\\sklearn\\linear_model\\_logistic.py:940: ConvergenceWarning: lbfgs failed to converge (status=1):\n",
      "STOP: TOTAL NO. of ITERATIONS REACHED LIMIT.\n",
      "\n",
      "Increase the number of iterations (max_iter) or scale the data as shown in:\n",
      "    https://scikit-learn.org/stable/modules/preprocessing.html\n",
      "Please also refer to the documentation for alternative solver options:\n",
      "    https://scikit-learn.org/stable/modules/linear_model.html#logistic-regression\n",
      "  extra_warning_msg=_LOGISTIC_SOLVER_CONVERGENCE_MSG)\n"
     ]
    },
    {
     "name": "stdout",
     "output_type": "stream",
     "text": [
      "[CV] ..... C=100, max_iter=100, tol=0.0001, score=0.839, total=   0.1s\n",
      "[CV] C=100, max_iter=100, tol=0.0001 .................................\n",
      "[CV] ..... C=100, max_iter=100, tol=0.0001, score=0.855, total=   0.2s\n",
      "[CV] C=100, max_iter=100, tol=0.0001 .................................\n"
     ]
    },
    {
     "name": "stderr",
     "output_type": "stream",
     "text": [
      "C:\\Users\\BANDANA\\anaconda3\\lib\\site-packages\\sklearn\\linear_model\\_logistic.py:940: ConvergenceWarning: lbfgs failed to converge (status=1):\n",
      "STOP: TOTAL NO. of ITERATIONS REACHED LIMIT.\n",
      "\n",
      "Increase the number of iterations (max_iter) or scale the data as shown in:\n",
      "    https://scikit-learn.org/stable/modules/preprocessing.html\n",
      "Please also refer to the documentation for alternative solver options:\n",
      "    https://scikit-learn.org/stable/modules/linear_model.html#logistic-regression\n",
      "  extra_warning_msg=_LOGISTIC_SOLVER_CONVERGENCE_MSG)\n",
      "C:\\Users\\BANDANA\\anaconda3\\lib\\site-packages\\sklearn\\linear_model\\_logistic.py:940: ConvergenceWarning: lbfgs failed to converge (status=1):\n",
      "STOP: TOTAL NO. of ITERATIONS REACHED LIMIT.\n",
      "\n",
      "Increase the number of iterations (max_iter) or scale the data as shown in:\n",
      "    https://scikit-learn.org/stable/modules/preprocessing.html\n",
      "Please also refer to the documentation for alternative solver options:\n",
      "    https://scikit-learn.org/stable/modules/linear_model.html#logistic-regression\n",
      "  extra_warning_msg=_LOGISTIC_SOLVER_CONVERGENCE_MSG)\n"
     ]
    },
    {
     "name": "stdout",
     "output_type": "stream",
     "text": [
      "[CV] ..... C=100, max_iter=100, tol=0.0001, score=0.853, total=   0.2s\n",
      "[CV] C=100, max_iter=100, tol=0.0001 .................................\n",
      "[CV] ..... C=100, max_iter=100, tol=0.0001, score=0.840, total=   0.2s\n",
      "[CV] C=100, max_iter=100, tol=0.001 ..................................\n"
     ]
    },
    {
     "name": "stderr",
     "output_type": "stream",
     "text": [
      "C:\\Users\\BANDANA\\anaconda3\\lib\\site-packages\\sklearn\\linear_model\\_logistic.py:940: ConvergenceWarning: lbfgs failed to converge (status=1):\n",
      "STOP: TOTAL NO. of ITERATIONS REACHED LIMIT.\n",
      "\n",
      "Increase the number of iterations (max_iter) or scale the data as shown in:\n",
      "    https://scikit-learn.org/stable/modules/preprocessing.html\n",
      "Please also refer to the documentation for alternative solver options:\n",
      "    https://scikit-learn.org/stable/modules/linear_model.html#logistic-regression\n",
      "  extra_warning_msg=_LOGISTIC_SOLVER_CONVERGENCE_MSG)\n",
      "C:\\Users\\BANDANA\\anaconda3\\lib\\site-packages\\sklearn\\linear_model\\_logistic.py:940: ConvergenceWarning: lbfgs failed to converge (status=1):\n",
      "STOP: TOTAL NO. of ITERATIONS REACHED LIMIT.\n",
      "\n",
      "Increase the number of iterations (max_iter) or scale the data as shown in:\n",
      "    https://scikit-learn.org/stable/modules/preprocessing.html\n",
      "Please also refer to the documentation for alternative solver options:\n",
      "    https://scikit-learn.org/stable/modules/linear_model.html#logistic-regression\n",
      "  extra_warning_msg=_LOGISTIC_SOLVER_CONVERGENCE_MSG)\n"
     ]
    },
    {
     "name": "stdout",
     "output_type": "stream",
     "text": [
      "[CV] ...... C=100, max_iter=100, tol=0.001, score=0.830, total=   0.1s\n",
      "[CV] C=100, max_iter=100, tol=0.001 ..................................\n",
      "[CV] ...... C=100, max_iter=100, tol=0.001, score=0.839, total=   0.1s\n",
      "[CV] C=100, max_iter=100, tol=0.001 ..................................\n"
     ]
    },
    {
     "name": "stderr",
     "output_type": "stream",
     "text": [
      "C:\\Users\\BANDANA\\anaconda3\\lib\\site-packages\\sklearn\\linear_model\\_logistic.py:940: ConvergenceWarning: lbfgs failed to converge (status=1):\n",
      "STOP: TOTAL NO. of ITERATIONS REACHED LIMIT.\n",
      "\n",
      "Increase the number of iterations (max_iter) or scale the data as shown in:\n",
      "    https://scikit-learn.org/stable/modules/preprocessing.html\n",
      "Please also refer to the documentation for alternative solver options:\n",
      "    https://scikit-learn.org/stable/modules/linear_model.html#logistic-regression\n",
      "  extra_warning_msg=_LOGISTIC_SOLVER_CONVERGENCE_MSG)\n",
      "C:\\Users\\BANDANA\\anaconda3\\lib\\site-packages\\sklearn\\linear_model\\_logistic.py:940: ConvergenceWarning: lbfgs failed to converge (status=1):\n",
      "STOP: TOTAL NO. of ITERATIONS REACHED LIMIT.\n",
      "\n",
      "Increase the number of iterations (max_iter) or scale the data as shown in:\n",
      "    https://scikit-learn.org/stable/modules/preprocessing.html\n",
      "Please also refer to the documentation for alternative solver options:\n",
      "    https://scikit-learn.org/stable/modules/linear_model.html#logistic-regression\n",
      "  extra_warning_msg=_LOGISTIC_SOLVER_CONVERGENCE_MSG)\n"
     ]
    },
    {
     "name": "stdout",
     "output_type": "stream",
     "text": [
      "[CV] ...... C=100, max_iter=100, tol=0.001, score=0.855, total=   0.2s\n",
      "[CV] C=100, max_iter=100, tol=0.001 ..................................\n",
      "[CV] ...... C=100, max_iter=100, tol=0.001, score=0.853, total=   0.1s\n",
      "[CV] C=100, max_iter=100, tol=0.001 ..................................\n"
     ]
    },
    {
     "name": "stderr",
     "output_type": "stream",
     "text": [
      "C:\\Users\\BANDANA\\anaconda3\\lib\\site-packages\\sklearn\\linear_model\\_logistic.py:940: ConvergenceWarning: lbfgs failed to converge (status=1):\n",
      "STOP: TOTAL NO. of ITERATIONS REACHED LIMIT.\n",
      "\n",
      "Increase the number of iterations (max_iter) or scale the data as shown in:\n",
      "    https://scikit-learn.org/stable/modules/preprocessing.html\n",
      "Please also refer to the documentation for alternative solver options:\n",
      "    https://scikit-learn.org/stable/modules/linear_model.html#logistic-regression\n",
      "  extra_warning_msg=_LOGISTIC_SOLVER_CONVERGENCE_MSG)\n",
      "C:\\Users\\BANDANA\\anaconda3\\lib\\site-packages\\sklearn\\linear_model\\_logistic.py:940: ConvergenceWarning: lbfgs failed to converge (status=1):\n",
      "STOP: TOTAL NO. of ITERATIONS REACHED LIMIT.\n",
      "\n",
      "Increase the number of iterations (max_iter) or scale the data as shown in:\n",
      "    https://scikit-learn.org/stable/modules/preprocessing.html\n",
      "Please also refer to the documentation for alternative solver options:\n",
      "    https://scikit-learn.org/stable/modules/linear_model.html#logistic-regression\n",
      "  extra_warning_msg=_LOGISTIC_SOLVER_CONVERGENCE_MSG)\n"
     ]
    },
    {
     "name": "stdout",
     "output_type": "stream",
     "text": [
      "[CV] ...... C=100, max_iter=100, tol=0.001, score=0.840, total=   0.2s\n",
      "[CV] C=100, max_iter=100, tol=0.005 ..................................\n",
      "[CV] ...... C=100, max_iter=100, tol=0.005, score=0.830, total=   0.2s\n",
      "[CV] C=100, max_iter=100, tol=0.005 .................................."
     ]
    },
    {
     "name": "stderr",
     "output_type": "stream",
     "text": [
      "C:\\Users\\BANDANA\\anaconda3\\lib\\site-packages\\sklearn\\linear_model\\_logistic.py:940: ConvergenceWarning: lbfgs failed to converge (status=1):\n",
      "STOP: TOTAL NO. of ITERATIONS REACHED LIMIT.\n",
      "\n",
      "Increase the number of iterations (max_iter) or scale the data as shown in:\n",
      "    https://scikit-learn.org/stable/modules/preprocessing.html\n",
      "Please also refer to the documentation for alternative solver options:\n",
      "    https://scikit-learn.org/stable/modules/linear_model.html#logistic-regression\n",
      "  extra_warning_msg=_LOGISTIC_SOLVER_CONVERGENCE_MSG)\n",
      "C:\\Users\\BANDANA\\anaconda3\\lib\\site-packages\\sklearn\\linear_model\\_logistic.py:940: ConvergenceWarning: lbfgs failed to converge (status=1):\n",
      "STOP: TOTAL NO. of ITERATIONS REACHED LIMIT.\n",
      "\n",
      "Increase the number of iterations (max_iter) or scale the data as shown in:\n",
      "    https://scikit-learn.org/stable/modules/preprocessing.html\n",
      "Please also refer to the documentation for alternative solver options:\n",
      "    https://scikit-learn.org/stable/modules/linear_model.html#logistic-regression\n",
      "  extra_warning_msg=_LOGISTIC_SOLVER_CONVERGENCE_MSG)\n"
     ]
    },
    {
     "name": "stdout",
     "output_type": "stream",
     "text": [
      "\n",
      "[CV] ...... C=100, max_iter=100, tol=0.005, score=0.839, total=   0.1s\n",
      "[CV] C=100, max_iter=100, tol=0.005 ..................................\n"
     ]
    },
    {
     "name": "stderr",
     "output_type": "stream",
     "text": [
      "C:\\Users\\BANDANA\\anaconda3\\lib\\site-packages\\sklearn\\linear_model\\_logistic.py:940: ConvergenceWarning: lbfgs failed to converge (status=1):\n",
      "STOP: TOTAL NO. of ITERATIONS REACHED LIMIT.\n",
      "\n",
      "Increase the number of iterations (max_iter) or scale the data as shown in:\n",
      "    https://scikit-learn.org/stable/modules/preprocessing.html\n",
      "Please also refer to the documentation for alternative solver options:\n",
      "    https://scikit-learn.org/stable/modules/linear_model.html#logistic-regression\n",
      "  extra_warning_msg=_LOGISTIC_SOLVER_CONVERGENCE_MSG)\n",
      "C:\\Users\\BANDANA\\anaconda3\\lib\\site-packages\\sklearn\\linear_model\\_logistic.py:940: ConvergenceWarning: lbfgs failed to converge (status=1):\n",
      "STOP: TOTAL NO. of ITERATIONS REACHED LIMIT.\n",
      "\n",
      "Increase the number of iterations (max_iter) or scale the data as shown in:\n",
      "    https://scikit-learn.org/stable/modules/preprocessing.html\n",
      "Please also refer to the documentation for alternative solver options:\n",
      "    https://scikit-learn.org/stable/modules/linear_model.html#logistic-regression\n",
      "  extra_warning_msg=_LOGISTIC_SOLVER_CONVERGENCE_MSG)\n"
     ]
    },
    {
     "name": "stdout",
     "output_type": "stream",
     "text": [
      "[CV] ...... C=100, max_iter=100, tol=0.005, score=0.855, total=   0.2s\n",
      "[CV] C=100, max_iter=100, tol=0.005 ..................................\n",
      "[CV] ...... C=100, max_iter=100, tol=0.005, score=0.853, total=   0.1s\n",
      "[CV] C=100, max_iter=100, tol=0.005 ..................................\n"
     ]
    },
    {
     "name": "stderr",
     "output_type": "stream",
     "text": [
      "C:\\Users\\BANDANA\\anaconda3\\lib\\site-packages\\sklearn\\linear_model\\_logistic.py:940: ConvergenceWarning: lbfgs failed to converge (status=1):\n",
      "STOP: TOTAL NO. of ITERATIONS REACHED LIMIT.\n",
      "\n",
      "Increase the number of iterations (max_iter) or scale the data as shown in:\n",
      "    https://scikit-learn.org/stable/modules/preprocessing.html\n",
      "Please also refer to the documentation for alternative solver options:\n",
      "    https://scikit-learn.org/stable/modules/linear_model.html#logistic-regression\n",
      "  extra_warning_msg=_LOGISTIC_SOLVER_CONVERGENCE_MSG)\n"
     ]
    },
    {
     "name": "stdout",
     "output_type": "stream",
     "text": [
      "[CV] ...... C=100, max_iter=100, tol=0.005, score=0.840, total=   0.2s\n",
      "[CV] C=100, max_iter=200, tol=0.0001 .................................\n"
     ]
    },
    {
     "name": "stderr",
     "output_type": "stream",
     "text": [
      "C:\\Users\\BANDANA\\anaconda3\\lib\\site-packages\\sklearn\\linear_model\\_logistic.py:940: ConvergenceWarning: lbfgs failed to converge (status=1):\n",
      "STOP: TOTAL NO. of ITERATIONS REACHED LIMIT.\n",
      "\n",
      "Increase the number of iterations (max_iter) or scale the data as shown in:\n",
      "    https://scikit-learn.org/stable/modules/preprocessing.html\n",
      "Please also refer to the documentation for alternative solver options:\n",
      "    https://scikit-learn.org/stable/modules/linear_model.html#logistic-regression\n",
      "  extra_warning_msg=_LOGISTIC_SOLVER_CONVERGENCE_MSG)\n"
     ]
    },
    {
     "name": "stdout",
     "output_type": "stream",
     "text": [
      "[CV] ..... C=100, max_iter=200, tol=0.0001, score=0.829, total=   0.3s\n",
      "[CV] C=100, max_iter=200, tol=0.0001 .................................\n",
      "[CV] ..... C=100, max_iter=200, tol=0.0001, score=0.837, total=   0.3s\n",
      "[CV] C=100, max_iter=200, tol=0.0001 .................................\n"
     ]
    },
    {
     "name": "stderr",
     "output_type": "stream",
     "text": [
      "C:\\Users\\BANDANA\\anaconda3\\lib\\site-packages\\sklearn\\linear_model\\_logistic.py:940: ConvergenceWarning: lbfgs failed to converge (status=1):\n",
      "STOP: TOTAL NO. of ITERATIONS REACHED LIMIT.\n",
      "\n",
      "Increase the number of iterations (max_iter) or scale the data as shown in:\n",
      "    https://scikit-learn.org/stable/modules/preprocessing.html\n",
      "Please also refer to the documentation for alternative solver options:\n",
      "    https://scikit-learn.org/stable/modules/linear_model.html#logistic-regression\n",
      "  extra_warning_msg=_LOGISTIC_SOLVER_CONVERGENCE_MSG)\n"
     ]
    },
    {
     "name": "stdout",
     "output_type": "stream",
     "text": [
      "[CV] ..... C=100, max_iter=200, tol=0.0001, score=0.859, total=   0.3s\n",
      "[CV] C=100, max_iter=200, tol=0.0001 .................................\n"
     ]
    },
    {
     "name": "stderr",
     "output_type": "stream",
     "text": [
      "C:\\Users\\BANDANA\\anaconda3\\lib\\site-packages\\sklearn\\linear_model\\_logistic.py:940: ConvergenceWarning: lbfgs failed to converge (status=1):\n",
      "STOP: TOTAL NO. of ITERATIONS REACHED LIMIT.\n",
      "\n",
      "Increase the number of iterations (max_iter) or scale the data as shown in:\n",
      "    https://scikit-learn.org/stable/modules/preprocessing.html\n",
      "Please also refer to the documentation for alternative solver options:\n",
      "    https://scikit-learn.org/stable/modules/linear_model.html#logistic-regression\n",
      "  extra_warning_msg=_LOGISTIC_SOLVER_CONVERGENCE_MSG)\n"
     ]
    },
    {
     "name": "stdout",
     "output_type": "stream",
     "text": [
      "[CV] ..... C=100, max_iter=200, tol=0.0001, score=0.854, total=   0.3s\n",
      "[CV] C=100, max_iter=200, tol=0.0001 .................................\n"
     ]
    },
    {
     "name": "stderr",
     "output_type": "stream",
     "text": [
      "C:\\Users\\BANDANA\\anaconda3\\lib\\site-packages\\sklearn\\linear_model\\_logistic.py:940: ConvergenceWarning: lbfgs failed to converge (status=1):\n",
      "STOP: TOTAL NO. of ITERATIONS REACHED LIMIT.\n",
      "\n",
      "Increase the number of iterations (max_iter) or scale the data as shown in:\n",
      "    https://scikit-learn.org/stable/modules/preprocessing.html\n",
      "Please also refer to the documentation for alternative solver options:\n",
      "    https://scikit-learn.org/stable/modules/linear_model.html#logistic-regression\n",
      "  extra_warning_msg=_LOGISTIC_SOLVER_CONVERGENCE_MSG)\n"
     ]
    },
    {
     "name": "stdout",
     "output_type": "stream",
     "text": [
      "[CV] ..... C=100, max_iter=200, tol=0.0001, score=0.838, total=   0.3s\n",
      "[CV] C=100, max_iter=200, tol=0.001 ..................................\n"
     ]
    },
    {
     "name": "stderr",
     "output_type": "stream",
     "text": [
      "C:\\Users\\BANDANA\\anaconda3\\lib\\site-packages\\sklearn\\linear_model\\_logistic.py:940: ConvergenceWarning: lbfgs failed to converge (status=1):\n",
      "STOP: TOTAL NO. of ITERATIONS REACHED LIMIT.\n",
      "\n",
      "Increase the number of iterations (max_iter) or scale the data as shown in:\n",
      "    https://scikit-learn.org/stable/modules/preprocessing.html\n",
      "Please also refer to the documentation for alternative solver options:\n",
      "    https://scikit-learn.org/stable/modules/linear_model.html#logistic-regression\n",
      "  extra_warning_msg=_LOGISTIC_SOLVER_CONVERGENCE_MSG)\n"
     ]
    },
    {
     "name": "stdout",
     "output_type": "stream",
     "text": [
      "[CV] ...... C=100, max_iter=200, tol=0.001, score=0.829, total=   0.3s\n",
      "[CV] C=100, max_iter=200, tol=0.001 ..................................\n",
      "[CV] ...... C=100, max_iter=200, tol=0.001, score=0.837, total=   0.3s\n",
      "[CV] C=100, max_iter=200, tol=0.001 ..................................\n"
     ]
    },
    {
     "name": "stderr",
     "output_type": "stream",
     "text": [
      "C:\\Users\\BANDANA\\anaconda3\\lib\\site-packages\\sklearn\\linear_model\\_logistic.py:940: ConvergenceWarning: lbfgs failed to converge (status=1):\n",
      "STOP: TOTAL NO. of ITERATIONS REACHED LIMIT.\n",
      "\n",
      "Increase the number of iterations (max_iter) or scale the data as shown in:\n",
      "    https://scikit-learn.org/stable/modules/preprocessing.html\n",
      "Please also refer to the documentation for alternative solver options:\n",
      "    https://scikit-learn.org/stable/modules/linear_model.html#logistic-regression\n",
      "  extra_warning_msg=_LOGISTIC_SOLVER_CONVERGENCE_MSG)\n"
     ]
    },
    {
     "name": "stdout",
     "output_type": "stream",
     "text": [
      "[CV] ...... C=100, max_iter=200, tol=0.001, score=0.859, total=   0.3s\n",
      "[CV] C=100, max_iter=200, tol=0.001 ..................................\n"
     ]
    },
    {
     "name": "stderr",
     "output_type": "stream",
     "text": [
      "C:\\Users\\BANDANA\\anaconda3\\lib\\site-packages\\sklearn\\linear_model\\_logistic.py:940: ConvergenceWarning: lbfgs failed to converge (status=1):\n",
      "STOP: TOTAL NO. of ITERATIONS REACHED LIMIT.\n",
      "\n",
      "Increase the number of iterations (max_iter) or scale the data as shown in:\n",
      "    https://scikit-learn.org/stable/modules/preprocessing.html\n",
      "Please also refer to the documentation for alternative solver options:\n",
      "    https://scikit-learn.org/stable/modules/linear_model.html#logistic-regression\n",
      "  extra_warning_msg=_LOGISTIC_SOLVER_CONVERGENCE_MSG)\n"
     ]
    },
    {
     "name": "stdout",
     "output_type": "stream",
     "text": [
      "[CV] ...... C=100, max_iter=200, tol=0.001, score=0.854, total=   0.3s\n",
      "[CV] C=100, max_iter=200, tol=0.001 ..................................\n"
     ]
    },
    {
     "name": "stderr",
     "output_type": "stream",
     "text": [
      "C:\\Users\\BANDANA\\anaconda3\\lib\\site-packages\\sklearn\\linear_model\\_logistic.py:940: ConvergenceWarning: lbfgs failed to converge (status=1):\n",
      "STOP: TOTAL NO. of ITERATIONS REACHED LIMIT.\n",
      "\n",
      "Increase the number of iterations (max_iter) or scale the data as shown in:\n",
      "    https://scikit-learn.org/stable/modules/preprocessing.html\n",
      "Please also refer to the documentation for alternative solver options:\n",
      "    https://scikit-learn.org/stable/modules/linear_model.html#logistic-regression\n",
      "  extra_warning_msg=_LOGISTIC_SOLVER_CONVERGENCE_MSG)\n"
     ]
    },
    {
     "name": "stdout",
     "output_type": "stream",
     "text": [
      "[CV] ...... C=100, max_iter=200, tol=0.001, score=0.838, total=   0.3s\n",
      "[CV] C=100, max_iter=200, tol=0.005 ..................................\n"
     ]
    },
    {
     "name": "stderr",
     "output_type": "stream",
     "text": [
      "C:\\Users\\BANDANA\\anaconda3\\lib\\site-packages\\sklearn\\linear_model\\_logistic.py:940: ConvergenceWarning: lbfgs failed to converge (status=1):\n",
      "STOP: TOTAL NO. of ITERATIONS REACHED LIMIT.\n",
      "\n",
      "Increase the number of iterations (max_iter) or scale the data as shown in:\n",
      "    https://scikit-learn.org/stable/modules/preprocessing.html\n",
      "Please also refer to the documentation for alternative solver options:\n",
      "    https://scikit-learn.org/stable/modules/linear_model.html#logistic-regression\n",
      "  extra_warning_msg=_LOGISTIC_SOLVER_CONVERGENCE_MSG)\n"
     ]
    },
    {
     "name": "stdout",
     "output_type": "stream",
     "text": [
      "[CV] ...... C=100, max_iter=200, tol=0.005, score=0.829, total=   0.3s\n",
      "[CV] C=100, max_iter=200, tol=0.005 ..................................\n",
      "[CV] ...... C=100, max_iter=200, tol=0.005, score=0.837, total=   0.3s\n",
      "[CV] C=100, max_iter=200, tol=0.005 ..................................\n"
     ]
    },
    {
     "name": "stderr",
     "output_type": "stream",
     "text": [
      "C:\\Users\\BANDANA\\anaconda3\\lib\\site-packages\\sklearn\\linear_model\\_logistic.py:940: ConvergenceWarning: lbfgs failed to converge (status=1):\n",
      "STOP: TOTAL NO. of ITERATIONS REACHED LIMIT.\n",
      "\n",
      "Increase the number of iterations (max_iter) or scale the data as shown in:\n",
      "    https://scikit-learn.org/stable/modules/preprocessing.html\n",
      "Please also refer to the documentation for alternative solver options:\n",
      "    https://scikit-learn.org/stable/modules/linear_model.html#logistic-regression\n",
      "  extra_warning_msg=_LOGISTIC_SOLVER_CONVERGENCE_MSG)\n"
     ]
    },
    {
     "name": "stdout",
     "output_type": "stream",
     "text": [
      "[CV] ...... C=100, max_iter=200, tol=0.005, score=0.859, total=   0.2s\n",
      "[CV] C=100, max_iter=200, tol=0.005 ..................................\n"
     ]
    },
    {
     "name": "stderr",
     "output_type": "stream",
     "text": [
      "C:\\Users\\BANDANA\\anaconda3\\lib\\site-packages\\sklearn\\linear_model\\_logistic.py:940: ConvergenceWarning: lbfgs failed to converge (status=1):\n",
      "STOP: TOTAL NO. of ITERATIONS REACHED LIMIT.\n",
      "\n",
      "Increase the number of iterations (max_iter) or scale the data as shown in:\n",
      "    https://scikit-learn.org/stable/modules/preprocessing.html\n",
      "Please also refer to the documentation for alternative solver options:\n",
      "    https://scikit-learn.org/stable/modules/linear_model.html#logistic-regression\n",
      "  extra_warning_msg=_LOGISTIC_SOLVER_CONVERGENCE_MSG)\n"
     ]
    },
    {
     "name": "stdout",
     "output_type": "stream",
     "text": [
      "[CV] ...... C=100, max_iter=200, tol=0.005, score=0.854, total=   0.3s\n",
      "[CV] C=100, max_iter=200, tol=0.005 ..................................\n"
     ]
    },
    {
     "name": "stderr",
     "output_type": "stream",
     "text": [
      "C:\\Users\\BANDANA\\anaconda3\\lib\\site-packages\\sklearn\\linear_model\\_logistic.py:940: ConvergenceWarning: lbfgs failed to converge (status=1):\n",
      "STOP: TOTAL NO. of ITERATIONS REACHED LIMIT.\n",
      "\n",
      "Increase the number of iterations (max_iter) or scale the data as shown in:\n",
      "    https://scikit-learn.org/stable/modules/preprocessing.html\n",
      "Please also refer to the documentation for alternative solver options:\n",
      "    https://scikit-learn.org/stable/modules/linear_model.html#logistic-regression\n",
      "  extra_warning_msg=_LOGISTIC_SOLVER_CONVERGENCE_MSG)\n"
     ]
    },
    {
     "name": "stdout",
     "output_type": "stream",
     "text": [
      "[CV] ...... C=100, max_iter=200, tol=0.005, score=0.838, total=   0.3s\n",
      "[CV] C=100, max_iter=300, tol=0.0001 .................................\n",
      "[CV] ..... C=100, max_iter=300, tol=0.0001, score=0.829, total=   0.3s\n",
      "[CV] C=100, max_iter=300, tol=0.0001 .................................\n",
      "[CV] ..... C=100, max_iter=300, tol=0.0001, score=0.837, total=   0.3s\n",
      "[CV] C=100, max_iter=300, tol=0.0001 .................................\n",
      "[CV] ..... C=100, max_iter=300, tol=0.0001, score=0.859, total=   0.4s\n",
      "[CV] C=100, max_iter=300, tol=0.0001 .................................\n",
      "[CV] ..... C=100, max_iter=300, tol=0.0001, score=0.854, total=   0.3s\n",
      "[CV] C=100, max_iter=300, tol=0.0001 .................................\n",
      "[CV] ..... C=100, max_iter=300, tol=0.0001, score=0.838, total=   0.3s\n",
      "[CV] C=100, max_iter=300, tol=0.001 ..................................\n",
      "[CV] ...... C=100, max_iter=300, tol=0.001, score=0.829, total=   0.3s\n",
      "[CV] C=100, max_iter=300, tol=0.001 ..................................\n",
      "[CV] ...... C=100, max_iter=300, tol=0.001, score=0.837, total=   0.2s\n",
      "[CV] C=100, max_iter=300, tol=0.001 ..................................\n",
      "[CV] ...... C=100, max_iter=300, tol=0.001, score=0.859, total=   0.3s\n",
      "[CV] C=100, max_iter=300, tol=0.001 ..................................\n",
      "[CV] ...... C=100, max_iter=300, tol=0.001, score=0.854, total=   0.3s\n",
      "[CV] C=100, max_iter=300, tol=0.001 ..................................\n",
      "[CV] ...... C=100, max_iter=300, tol=0.001, score=0.838, total=   0.3s\n",
      "[CV] C=100, max_iter=300, tol=0.005 ..................................\n",
      "[CV] ...... C=100, max_iter=300, tol=0.005, score=0.829, total=   0.3s\n",
      "[CV] C=100, max_iter=300, tol=0.005 ..................................\n",
      "[CV] ...... C=100, max_iter=300, tol=0.005, score=0.837, total=   0.2s\n",
      "[CV] C=100, max_iter=300, tol=0.005 ..................................\n",
      "[CV] ...... C=100, max_iter=300, tol=0.005, score=0.859, total=   0.3s\n",
      "[CV] C=100, max_iter=300, tol=0.005 ..................................\n",
      "[CV] ...... C=100, max_iter=300, tol=0.005, score=0.854, total=   0.3s\n",
      "[CV] C=100, max_iter=300, tol=0.005 ..................................\n",
      "[CV] ...... C=100, max_iter=300, tol=0.005, score=0.838, total=   0.3s\n",
      "[CV] C=200, max_iter=100, tol=0.0001 .................................\n",
      "[CV] ..... C=200, max_iter=100, tol=0.0001, score=0.830, total=   0.2s\n",
      "[CV] C=200, max_iter=100, tol=0.0001 .................................\n"
     ]
    },
    {
     "name": "stderr",
     "output_type": "stream",
     "text": [
      "C:\\Users\\BANDANA\\anaconda3\\lib\\site-packages\\sklearn\\linear_model\\_logistic.py:940: ConvergenceWarning: lbfgs failed to converge (status=1):\n",
      "STOP: TOTAL NO. of ITERATIONS REACHED LIMIT.\n",
      "\n",
      "Increase the number of iterations (max_iter) or scale the data as shown in:\n",
      "    https://scikit-learn.org/stable/modules/preprocessing.html\n",
      "Please also refer to the documentation for alternative solver options:\n",
      "    https://scikit-learn.org/stable/modules/linear_model.html#logistic-regression\n",
      "  extra_warning_msg=_LOGISTIC_SOLVER_CONVERGENCE_MSG)\n",
      "C:\\Users\\BANDANA\\anaconda3\\lib\\site-packages\\sklearn\\linear_model\\_logistic.py:940: ConvergenceWarning: lbfgs failed to converge (status=1):\n",
      "STOP: TOTAL NO. of ITERATIONS REACHED LIMIT.\n",
      "\n",
      "Increase the number of iterations (max_iter) or scale the data as shown in:\n",
      "    https://scikit-learn.org/stable/modules/preprocessing.html\n",
      "Please also refer to the documentation for alternative solver options:\n",
      "    https://scikit-learn.org/stable/modules/linear_model.html#logistic-regression\n",
      "  extra_warning_msg=_LOGISTIC_SOLVER_CONVERGENCE_MSG)\n",
      "C:\\Users\\BANDANA\\anaconda3\\lib\\site-packages\\sklearn\\linear_model\\_logistic.py:940: ConvergenceWarning: lbfgs failed to converge (status=1):\n",
      "STOP: TOTAL NO. of ITERATIONS REACHED LIMIT.\n",
      "\n",
      "Increase the number of iterations (max_iter) or scale the data as shown in:\n",
      "    https://scikit-learn.org/stable/modules/preprocessing.html\n",
      "Please also refer to the documentation for alternative solver options:\n",
      "    https://scikit-learn.org/stable/modules/linear_model.html#logistic-regression\n",
      "  extra_warning_msg=_LOGISTIC_SOLVER_CONVERGENCE_MSG)\n"
     ]
    },
    {
     "name": "stdout",
     "output_type": "stream",
     "text": [
      "[CV] ..... C=200, max_iter=100, tol=0.0001, score=0.846, total=   0.2s\n",
      "[CV] C=200, max_iter=100, tol=0.0001 .................................\n",
      "[CV] ..... C=200, max_iter=100, tol=0.0001, score=0.853, total=   0.1s\n",
      "[CV] C=200, max_iter=100, tol=0.0001 .................................\n"
     ]
    },
    {
     "name": "stderr",
     "output_type": "stream",
     "text": [
      "C:\\Users\\BANDANA\\anaconda3\\lib\\site-packages\\sklearn\\linear_model\\_logistic.py:940: ConvergenceWarning: lbfgs failed to converge (status=1):\n",
      "STOP: TOTAL NO. of ITERATIONS REACHED LIMIT.\n",
      "\n",
      "Increase the number of iterations (max_iter) or scale the data as shown in:\n",
      "    https://scikit-learn.org/stable/modules/preprocessing.html\n",
      "Please also refer to the documentation for alternative solver options:\n",
      "    https://scikit-learn.org/stable/modules/linear_model.html#logistic-regression\n",
      "  extra_warning_msg=_LOGISTIC_SOLVER_CONVERGENCE_MSG)\n",
      "C:\\Users\\BANDANA\\anaconda3\\lib\\site-packages\\sklearn\\linear_model\\_logistic.py:940: ConvergenceWarning: lbfgs failed to converge (status=1):\n",
      "STOP: TOTAL NO. of ITERATIONS REACHED LIMIT.\n",
      "\n",
      "Increase the number of iterations (max_iter) or scale the data as shown in:\n",
      "    https://scikit-learn.org/stable/modules/preprocessing.html\n",
      "Please also refer to the documentation for alternative solver options:\n",
      "    https://scikit-learn.org/stable/modules/linear_model.html#logistic-regression\n",
      "  extra_warning_msg=_LOGISTIC_SOLVER_CONVERGENCE_MSG)\n"
     ]
    },
    {
     "name": "stdout",
     "output_type": "stream",
     "text": [
      "[CV] ..... C=200, max_iter=100, tol=0.0001, score=0.856, total=   0.2s\n",
      "[CV] C=200, max_iter=100, tol=0.0001 .................................\n",
      "[CV] ..... C=200, max_iter=100, tol=0.0001, score=0.846, total=   0.1s\n",
      "[CV] C=200, max_iter=100, tol=0.001 ..................................\n"
     ]
    },
    {
     "name": "stderr",
     "output_type": "stream",
     "text": [
      "C:\\Users\\BANDANA\\anaconda3\\lib\\site-packages\\sklearn\\linear_model\\_logistic.py:940: ConvergenceWarning: lbfgs failed to converge (status=1):\n",
      "STOP: TOTAL NO. of ITERATIONS REACHED LIMIT.\n",
      "\n",
      "Increase the number of iterations (max_iter) or scale the data as shown in:\n",
      "    https://scikit-learn.org/stable/modules/preprocessing.html\n",
      "Please also refer to the documentation for alternative solver options:\n",
      "    https://scikit-learn.org/stable/modules/linear_model.html#logistic-regression\n",
      "  extra_warning_msg=_LOGISTIC_SOLVER_CONVERGENCE_MSG)\n",
      "C:\\Users\\BANDANA\\anaconda3\\lib\\site-packages\\sklearn\\linear_model\\_logistic.py:940: ConvergenceWarning: lbfgs failed to converge (status=1):\n",
      "STOP: TOTAL NO. of ITERATIONS REACHED LIMIT.\n",
      "\n",
      "Increase the number of iterations (max_iter) or scale the data as shown in:\n",
      "    https://scikit-learn.org/stable/modules/preprocessing.html\n",
      "Please also refer to the documentation for alternative solver options:\n",
      "    https://scikit-learn.org/stable/modules/linear_model.html#logistic-regression\n",
      "  extra_warning_msg=_LOGISTIC_SOLVER_CONVERGENCE_MSG)\n"
     ]
    },
    {
     "name": "stdout",
     "output_type": "stream",
     "text": [
      "[CV] ...... C=200, max_iter=100, tol=0.001, score=0.830, total=   0.2s\n",
      "[CV] C=200, max_iter=100, tol=0.001 ..................................\n"
     ]
    },
    {
     "name": "stderr",
     "output_type": "stream",
     "text": [
      "C:\\Users\\BANDANA\\anaconda3\\lib\\site-packages\\sklearn\\linear_model\\_logistic.py:940: ConvergenceWarning: lbfgs failed to converge (status=1):\n",
      "STOP: TOTAL NO. of ITERATIONS REACHED LIMIT.\n",
      "\n",
      "Increase the number of iterations (max_iter) or scale the data as shown in:\n",
      "    https://scikit-learn.org/stable/modules/preprocessing.html\n",
      "Please also refer to the documentation for alternative solver options:\n",
      "    https://scikit-learn.org/stable/modules/linear_model.html#logistic-regression\n",
      "  extra_warning_msg=_LOGISTIC_SOLVER_CONVERGENCE_MSG)\n"
     ]
    },
    {
     "name": "stdout",
     "output_type": "stream",
     "text": [
      "[CV] ...... C=200, max_iter=100, tol=0.001, score=0.846, total=   0.2s\n",
      "[CV] C=200, max_iter=100, tol=0.001 ..................................\n"
     ]
    },
    {
     "name": "stderr",
     "output_type": "stream",
     "text": [
      "C:\\Users\\BANDANA\\anaconda3\\lib\\site-packages\\sklearn\\linear_model\\_logistic.py:940: ConvergenceWarning: lbfgs failed to converge (status=1):\n",
      "STOP: TOTAL NO. of ITERATIONS REACHED LIMIT.\n",
      "\n",
      "Increase the number of iterations (max_iter) or scale the data as shown in:\n",
      "    https://scikit-learn.org/stable/modules/preprocessing.html\n",
      "Please also refer to the documentation for alternative solver options:\n",
      "    https://scikit-learn.org/stable/modules/linear_model.html#logistic-regression\n",
      "  extra_warning_msg=_LOGISTIC_SOLVER_CONVERGENCE_MSG)\n"
     ]
    },
    {
     "name": "stdout",
     "output_type": "stream",
     "text": [
      "[CV] ...... C=200, max_iter=100, tol=0.001, score=0.853, total=   0.2s\n",
      "[CV] C=200, max_iter=100, tol=0.001 ..................................\n",
      "[CV] ...... C=200, max_iter=100, tol=0.001, score=0.856, total=   0.2s\n",
      "[CV] C=200, max_iter=100, tol=0.001 ..................................\n"
     ]
    },
    {
     "name": "stderr",
     "output_type": "stream",
     "text": [
      "C:\\Users\\BANDANA\\anaconda3\\lib\\site-packages\\sklearn\\linear_model\\_logistic.py:940: ConvergenceWarning: lbfgs failed to converge (status=1):\n",
      "STOP: TOTAL NO. of ITERATIONS REACHED LIMIT.\n",
      "\n",
      "Increase the number of iterations (max_iter) or scale the data as shown in:\n",
      "    https://scikit-learn.org/stable/modules/preprocessing.html\n",
      "Please also refer to the documentation for alternative solver options:\n",
      "    https://scikit-learn.org/stable/modules/linear_model.html#logistic-regression\n",
      "  extra_warning_msg=_LOGISTIC_SOLVER_CONVERGENCE_MSG)\n",
      "C:\\Users\\BANDANA\\anaconda3\\lib\\site-packages\\sklearn\\linear_model\\_logistic.py:940: ConvergenceWarning: lbfgs failed to converge (status=1):\n",
      "STOP: TOTAL NO. of ITERATIONS REACHED LIMIT.\n",
      "\n",
      "Increase the number of iterations (max_iter) or scale the data as shown in:\n",
      "    https://scikit-learn.org/stable/modules/preprocessing.html\n",
      "Please also refer to the documentation for alternative solver options:\n",
      "    https://scikit-learn.org/stable/modules/linear_model.html#logistic-regression\n",
      "  extra_warning_msg=_LOGISTIC_SOLVER_CONVERGENCE_MSG)\n"
     ]
    },
    {
     "name": "stdout",
     "output_type": "stream",
     "text": [
      "[CV] ...... C=200, max_iter=100, tol=0.001, score=0.846, total=   0.2s\n",
      "[CV] C=200, max_iter=100, tol=0.005 ..................................\n",
      "[CV] ...... C=200, max_iter=100, tol=0.005, score=0.830, total=   0.1s\n",
      "[CV] C=200, max_iter=100, tol=0.005 ..................................\n"
     ]
    },
    {
     "name": "stderr",
     "output_type": "stream",
     "text": [
      "C:\\Users\\BANDANA\\anaconda3\\lib\\site-packages\\sklearn\\linear_model\\_logistic.py:940: ConvergenceWarning: lbfgs failed to converge (status=1):\n",
      "STOP: TOTAL NO. of ITERATIONS REACHED LIMIT.\n",
      "\n",
      "Increase the number of iterations (max_iter) or scale the data as shown in:\n",
      "    https://scikit-learn.org/stable/modules/preprocessing.html\n",
      "Please also refer to the documentation for alternative solver options:\n",
      "    https://scikit-learn.org/stable/modules/linear_model.html#logistic-regression\n",
      "  extra_warning_msg=_LOGISTIC_SOLVER_CONVERGENCE_MSG)\n",
      "C:\\Users\\BANDANA\\anaconda3\\lib\\site-packages\\sklearn\\linear_model\\_logistic.py:940: ConvergenceWarning: lbfgs failed to converge (status=1):\n",
      "STOP: TOTAL NO. of ITERATIONS REACHED LIMIT.\n",
      "\n",
      "Increase the number of iterations (max_iter) or scale the data as shown in:\n",
      "    https://scikit-learn.org/stable/modules/preprocessing.html\n",
      "Please also refer to the documentation for alternative solver options:\n",
      "    https://scikit-learn.org/stable/modules/linear_model.html#logistic-regression\n",
      "  extra_warning_msg=_LOGISTIC_SOLVER_CONVERGENCE_MSG)\n"
     ]
    },
    {
     "name": "stdout",
     "output_type": "stream",
     "text": [
      "[CV] ...... C=200, max_iter=100, tol=0.005, score=0.846, total=   0.2s\n",
      "[CV] C=200, max_iter=100, tol=0.005 ..................................\n",
      "[CV] ...... C=200, max_iter=100, tol=0.005, score=0.853, total=   0.2s\n",
      "[CV] C=200, max_iter=100, tol=0.005 ..................................\n"
     ]
    },
    {
     "name": "stderr",
     "output_type": "stream",
     "text": [
      "C:\\Users\\BANDANA\\anaconda3\\lib\\site-packages\\sklearn\\linear_model\\_logistic.py:940: ConvergenceWarning: lbfgs failed to converge (status=1):\n",
      "STOP: TOTAL NO. of ITERATIONS REACHED LIMIT.\n",
      "\n",
      "Increase the number of iterations (max_iter) or scale the data as shown in:\n",
      "    https://scikit-learn.org/stable/modules/preprocessing.html\n",
      "Please also refer to the documentation for alternative solver options:\n",
      "    https://scikit-learn.org/stable/modules/linear_model.html#logistic-regression\n",
      "  extra_warning_msg=_LOGISTIC_SOLVER_CONVERGENCE_MSG)\n",
      "C:\\Users\\BANDANA\\anaconda3\\lib\\site-packages\\sklearn\\linear_model\\_logistic.py:940: ConvergenceWarning: lbfgs failed to converge (status=1):\n",
      "STOP: TOTAL NO. of ITERATIONS REACHED LIMIT.\n",
      "\n",
      "Increase the number of iterations (max_iter) or scale the data as shown in:\n",
      "    https://scikit-learn.org/stable/modules/preprocessing.html\n",
      "Please also refer to the documentation for alternative solver options:\n",
      "    https://scikit-learn.org/stable/modules/linear_model.html#logistic-regression\n",
      "  extra_warning_msg=_LOGISTIC_SOLVER_CONVERGENCE_MSG)\n"
     ]
    },
    {
     "name": "stdout",
     "output_type": "stream",
     "text": [
      "[CV] ...... C=200, max_iter=100, tol=0.005, score=0.856, total=   0.1s\n",
      "[CV] C=200, max_iter=100, tol=0.005 ..................................\n",
      "[CV] ...... C=200, max_iter=100, tol=0.005, score=0.846, total=   0.1s\n",
      "[CV] C=200, max_iter=200, tol=0.0001 .................................\n"
     ]
    },
    {
     "name": "stderr",
     "output_type": "stream",
     "text": [
      "C:\\Users\\BANDANA\\anaconda3\\lib\\site-packages\\sklearn\\linear_model\\_logistic.py:940: ConvergenceWarning: lbfgs failed to converge (status=1):\n",
      "STOP: TOTAL NO. of ITERATIONS REACHED LIMIT.\n",
      "\n",
      "Increase the number of iterations (max_iter) or scale the data as shown in:\n",
      "    https://scikit-learn.org/stable/modules/preprocessing.html\n",
      "Please also refer to the documentation for alternative solver options:\n",
      "    https://scikit-learn.org/stable/modules/linear_model.html#logistic-regression\n",
      "  extra_warning_msg=_LOGISTIC_SOLVER_CONVERGENCE_MSG)\n"
     ]
    },
    {
     "name": "stdout",
     "output_type": "stream",
     "text": [
      "[CV] ..... C=200, max_iter=200, tol=0.0001, score=0.833, total=   0.3s\n",
      "[CV] C=200, max_iter=200, tol=0.0001 .................................\n",
      "[CV] ..... C=200, max_iter=200, tol=0.0001, score=0.845, total=   0.2s\n",
      "[CV] C=200, max_iter=200, tol=0.0001 .................................\n"
     ]
    },
    {
     "name": "stderr",
     "output_type": "stream",
     "text": [
      "C:\\Users\\BANDANA\\anaconda3\\lib\\site-packages\\sklearn\\linear_model\\_logistic.py:940: ConvergenceWarning: lbfgs failed to converge (status=1):\n",
      "STOP: TOTAL NO. of ITERATIONS REACHED LIMIT.\n",
      "\n",
      "Increase the number of iterations (max_iter) or scale the data as shown in:\n",
      "    https://scikit-learn.org/stable/modules/preprocessing.html\n",
      "Please also refer to the documentation for alternative solver options:\n",
      "    https://scikit-learn.org/stable/modules/linear_model.html#logistic-regression\n",
      "  extra_warning_msg=_LOGISTIC_SOLVER_CONVERGENCE_MSG)\n"
     ]
    },
    {
     "name": "stdout",
     "output_type": "stream",
     "text": [
      "[CV] ..... C=200, max_iter=200, tol=0.0001, score=0.853, total=   0.3s\n",
      "[CV] C=200, max_iter=200, tol=0.0001 .................................\n"
     ]
    },
    {
     "name": "stderr",
     "output_type": "stream",
     "text": [
      "C:\\Users\\BANDANA\\anaconda3\\lib\\site-packages\\sklearn\\linear_model\\_logistic.py:940: ConvergenceWarning: lbfgs failed to converge (status=1):\n",
      "STOP: TOTAL NO. of ITERATIONS REACHED LIMIT.\n",
      "\n",
      "Increase the number of iterations (max_iter) or scale the data as shown in:\n",
      "    https://scikit-learn.org/stable/modules/preprocessing.html\n",
      "Please also refer to the documentation for alternative solver options:\n",
      "    https://scikit-learn.org/stable/modules/linear_model.html#logistic-regression\n",
      "  extra_warning_msg=_LOGISTIC_SOLVER_CONVERGENCE_MSG)\n"
     ]
    },
    {
     "name": "stdout",
     "output_type": "stream",
     "text": [
      "[CV] ..... C=200, max_iter=200, tol=0.0001, score=0.862, total=   0.3s\n",
      "[CV] C=200, max_iter=200, tol=0.0001 .................................\n"
     ]
    },
    {
     "name": "stderr",
     "output_type": "stream",
     "text": [
      "C:\\Users\\BANDANA\\anaconda3\\lib\\site-packages\\sklearn\\linear_model\\_logistic.py:940: ConvergenceWarning: lbfgs failed to converge (status=1):\n",
      "STOP: TOTAL NO. of ITERATIONS REACHED LIMIT.\n",
      "\n",
      "Increase the number of iterations (max_iter) or scale the data as shown in:\n",
      "    https://scikit-learn.org/stable/modules/preprocessing.html\n",
      "Please also refer to the documentation for alternative solver options:\n",
      "    https://scikit-learn.org/stable/modules/linear_model.html#logistic-regression\n",
      "  extra_warning_msg=_LOGISTIC_SOLVER_CONVERGENCE_MSG)\n"
     ]
    },
    {
     "name": "stdout",
     "output_type": "stream",
     "text": [
      "[CV] ..... C=200, max_iter=200, tol=0.0001, score=0.844, total=   0.2s\n",
      "[CV] C=200, max_iter=200, tol=0.001 ..................................\n"
     ]
    },
    {
     "name": "stderr",
     "output_type": "stream",
     "text": [
      "C:\\Users\\BANDANA\\anaconda3\\lib\\site-packages\\sklearn\\linear_model\\_logistic.py:940: ConvergenceWarning: lbfgs failed to converge (status=1):\n",
      "STOP: TOTAL NO. of ITERATIONS REACHED LIMIT.\n",
      "\n",
      "Increase the number of iterations (max_iter) or scale the data as shown in:\n",
      "    https://scikit-learn.org/stable/modules/preprocessing.html\n",
      "Please also refer to the documentation for alternative solver options:\n",
      "    https://scikit-learn.org/stable/modules/linear_model.html#logistic-regression\n",
      "  extra_warning_msg=_LOGISTIC_SOLVER_CONVERGENCE_MSG)\n"
     ]
    },
    {
     "name": "stdout",
     "output_type": "stream",
     "text": [
      "[CV] ...... C=200, max_iter=200, tol=0.001, score=0.833, total=   0.3s\n",
      "[CV] C=200, max_iter=200, tol=0.001 ..................................\n",
      "[CV] ...... C=200, max_iter=200, tol=0.001, score=0.845, total=   0.2s\n",
      "[CV] C=200, max_iter=200, tol=0.001 ..................................\n"
     ]
    },
    {
     "name": "stderr",
     "output_type": "stream",
     "text": [
      "C:\\Users\\BANDANA\\anaconda3\\lib\\site-packages\\sklearn\\linear_model\\_logistic.py:940: ConvergenceWarning: lbfgs failed to converge (status=1):\n",
      "STOP: TOTAL NO. of ITERATIONS REACHED LIMIT.\n",
      "\n",
      "Increase the number of iterations (max_iter) or scale the data as shown in:\n",
      "    https://scikit-learn.org/stable/modules/preprocessing.html\n",
      "Please also refer to the documentation for alternative solver options:\n",
      "    https://scikit-learn.org/stable/modules/linear_model.html#logistic-regression\n",
      "  extra_warning_msg=_LOGISTIC_SOLVER_CONVERGENCE_MSG)\n"
     ]
    },
    {
     "name": "stdout",
     "output_type": "stream",
     "text": [
      "[CV] ...... C=200, max_iter=200, tol=0.001, score=0.853, total=   0.3s\n",
      "[CV] C=200, max_iter=200, tol=0.001 ..................................\n"
     ]
    },
    {
     "name": "stderr",
     "output_type": "stream",
     "text": [
      "C:\\Users\\BANDANA\\anaconda3\\lib\\site-packages\\sklearn\\linear_model\\_logistic.py:940: ConvergenceWarning: lbfgs failed to converge (status=1):\n",
      "STOP: TOTAL NO. of ITERATIONS REACHED LIMIT.\n",
      "\n",
      "Increase the number of iterations (max_iter) or scale the data as shown in:\n",
      "    https://scikit-learn.org/stable/modules/preprocessing.html\n",
      "Please also refer to the documentation for alternative solver options:\n",
      "    https://scikit-learn.org/stable/modules/linear_model.html#logistic-regression\n",
      "  extra_warning_msg=_LOGISTIC_SOLVER_CONVERGENCE_MSG)\n"
     ]
    },
    {
     "name": "stdout",
     "output_type": "stream",
     "text": [
      "[CV] ...... C=200, max_iter=200, tol=0.001, score=0.862, total=   0.2s\n",
      "[CV] C=200, max_iter=200, tol=0.001 ..................................\n"
     ]
    },
    {
     "name": "stderr",
     "output_type": "stream",
     "text": [
      "C:\\Users\\BANDANA\\anaconda3\\lib\\site-packages\\sklearn\\linear_model\\_logistic.py:940: ConvergenceWarning: lbfgs failed to converge (status=1):\n",
      "STOP: TOTAL NO. of ITERATIONS REACHED LIMIT.\n",
      "\n",
      "Increase the number of iterations (max_iter) or scale the data as shown in:\n",
      "    https://scikit-learn.org/stable/modules/preprocessing.html\n",
      "Please also refer to the documentation for alternative solver options:\n",
      "    https://scikit-learn.org/stable/modules/linear_model.html#logistic-regression\n",
      "  extra_warning_msg=_LOGISTIC_SOLVER_CONVERGENCE_MSG)\n"
     ]
    },
    {
     "name": "stdout",
     "output_type": "stream",
     "text": [
      "[CV] ...... C=200, max_iter=200, tol=0.001, score=0.844, total=   0.3s\n",
      "[CV] C=200, max_iter=200, tol=0.005 ..................................\n"
     ]
    },
    {
     "name": "stderr",
     "output_type": "stream",
     "text": [
      "C:\\Users\\BANDANA\\anaconda3\\lib\\site-packages\\sklearn\\linear_model\\_logistic.py:940: ConvergenceWarning: lbfgs failed to converge (status=1):\n",
      "STOP: TOTAL NO. of ITERATIONS REACHED LIMIT.\n",
      "\n",
      "Increase the number of iterations (max_iter) or scale the data as shown in:\n",
      "    https://scikit-learn.org/stable/modules/preprocessing.html\n",
      "Please also refer to the documentation for alternative solver options:\n",
      "    https://scikit-learn.org/stable/modules/linear_model.html#logistic-regression\n",
      "  extra_warning_msg=_LOGISTIC_SOLVER_CONVERGENCE_MSG)\n"
     ]
    },
    {
     "name": "stdout",
     "output_type": "stream",
     "text": [
      "[CV] ...... C=200, max_iter=200, tol=0.005, score=0.833, total=   0.3s\n",
      "[CV] C=200, max_iter=200, tol=0.005 ..................................\n",
      "[CV] ...... C=200, max_iter=200, tol=0.005, score=0.845, total=   0.2s\n",
      "[CV] C=200, max_iter=200, tol=0.005 ..................................\n"
     ]
    },
    {
     "name": "stderr",
     "output_type": "stream",
     "text": [
      "C:\\Users\\BANDANA\\anaconda3\\lib\\site-packages\\sklearn\\linear_model\\_logistic.py:940: ConvergenceWarning: lbfgs failed to converge (status=1):\n",
      "STOP: TOTAL NO. of ITERATIONS REACHED LIMIT.\n",
      "\n",
      "Increase the number of iterations (max_iter) or scale the data as shown in:\n",
      "    https://scikit-learn.org/stable/modules/preprocessing.html\n",
      "Please also refer to the documentation for alternative solver options:\n",
      "    https://scikit-learn.org/stable/modules/linear_model.html#logistic-regression\n",
      "  extra_warning_msg=_LOGISTIC_SOLVER_CONVERGENCE_MSG)\n"
     ]
    },
    {
     "name": "stdout",
     "output_type": "stream",
     "text": [
      "[CV] ...... C=200, max_iter=200, tol=0.005, score=0.853, total=   0.3s\n",
      "[CV] C=200, max_iter=200, tol=0.005 ..................................\n"
     ]
    },
    {
     "name": "stderr",
     "output_type": "stream",
     "text": [
      "C:\\Users\\BANDANA\\anaconda3\\lib\\site-packages\\sklearn\\linear_model\\_logistic.py:940: ConvergenceWarning: lbfgs failed to converge (status=1):\n",
      "STOP: TOTAL NO. of ITERATIONS REACHED LIMIT.\n",
      "\n",
      "Increase the number of iterations (max_iter) or scale the data as shown in:\n",
      "    https://scikit-learn.org/stable/modules/preprocessing.html\n",
      "Please also refer to the documentation for alternative solver options:\n",
      "    https://scikit-learn.org/stable/modules/linear_model.html#logistic-regression\n",
      "  extra_warning_msg=_LOGISTIC_SOLVER_CONVERGENCE_MSG)\n"
     ]
    },
    {
     "name": "stdout",
     "output_type": "stream",
     "text": [
      "[CV] ...... C=200, max_iter=200, tol=0.005, score=0.862, total=   0.3s\n",
      "[CV] C=200, max_iter=200, tol=0.005 ..................................\n"
     ]
    },
    {
     "name": "stderr",
     "output_type": "stream",
     "text": [
      "C:\\Users\\BANDANA\\anaconda3\\lib\\site-packages\\sklearn\\linear_model\\_logistic.py:940: ConvergenceWarning: lbfgs failed to converge (status=1):\n",
      "STOP: TOTAL NO. of ITERATIONS REACHED LIMIT.\n",
      "\n",
      "Increase the number of iterations (max_iter) or scale the data as shown in:\n",
      "    https://scikit-learn.org/stable/modules/preprocessing.html\n",
      "Please also refer to the documentation for alternative solver options:\n",
      "    https://scikit-learn.org/stable/modules/linear_model.html#logistic-regression\n",
      "  extra_warning_msg=_LOGISTIC_SOLVER_CONVERGENCE_MSG)\n"
     ]
    },
    {
     "name": "stdout",
     "output_type": "stream",
     "text": [
      "[CV] ...... C=200, max_iter=200, tol=0.005, score=0.844, total=   0.2s\n",
      "[CV] C=200, max_iter=300, tol=0.0001 .................................\n",
      "[CV] ..... C=200, max_iter=300, tol=0.0001, score=0.834, total=   0.3s\n",
      "[CV] C=200, max_iter=300, tol=0.0001 .................................\n",
      "[CV] ..... C=200, max_iter=300, tol=0.0001, score=0.845, total=   0.2s\n",
      "[CV] C=200, max_iter=300, tol=0.0001 .................................\n",
      "[CV] ..... C=200, max_iter=300, tol=0.0001, score=0.853, total=   0.3s\n",
      "[CV] C=200, max_iter=300, tol=0.0001 .................................\n",
      "[CV] ..... C=200, max_iter=300, tol=0.0001, score=0.862, total=   0.5s\n",
      "[CV] C=200, max_iter=300, tol=0.0001 .................................\n"
     ]
    },
    {
     "name": "stderr",
     "output_type": "stream",
     "text": [
      "C:\\Users\\BANDANA\\anaconda3\\lib\\site-packages\\sklearn\\linear_model\\_logistic.py:940: ConvergenceWarning: lbfgs failed to converge (status=1):\n",
      "STOP: TOTAL NO. of ITERATIONS REACHED LIMIT.\n",
      "\n",
      "Increase the number of iterations (max_iter) or scale the data as shown in:\n",
      "    https://scikit-learn.org/stable/modules/preprocessing.html\n",
      "Please also refer to the documentation for alternative solver options:\n",
      "    https://scikit-learn.org/stable/modules/linear_model.html#logistic-regression\n",
      "  extra_warning_msg=_LOGISTIC_SOLVER_CONVERGENCE_MSG)\n"
     ]
    },
    {
     "name": "stdout",
     "output_type": "stream",
     "text": [
      "[CV] ..... C=200, max_iter=300, tol=0.0001, score=0.843, total=   0.4s\n",
      "[CV] C=200, max_iter=300, tol=0.001 ..................................\n",
      "[CV] ...... C=200, max_iter=300, tol=0.001, score=0.834, total=   0.3s\n",
      "[CV] C=200, max_iter=300, tol=0.001 ..................................\n",
      "[CV] ...... C=200, max_iter=300, tol=0.001, score=0.845, total=   0.2s\n",
      "[CV] C=200, max_iter=300, tol=0.001 ..................................\n",
      "[CV] ...... C=200, max_iter=300, tol=0.001, score=0.853, total=   0.3s\n",
      "[CV] C=200, max_iter=300, tol=0.001 ..................................\n",
      "[CV] ...... C=200, max_iter=300, tol=0.001, score=0.862, total=   0.3s\n",
      "[CV] C=200, max_iter=300, tol=0.001 ..................................\n"
     ]
    },
    {
     "name": "stderr",
     "output_type": "stream",
     "text": [
      "C:\\Users\\BANDANA\\anaconda3\\lib\\site-packages\\sklearn\\linear_model\\_logistic.py:940: ConvergenceWarning: lbfgs failed to converge (status=1):\n",
      "STOP: TOTAL NO. of ITERATIONS REACHED LIMIT.\n",
      "\n",
      "Increase the number of iterations (max_iter) or scale the data as shown in:\n",
      "    https://scikit-learn.org/stable/modules/preprocessing.html\n",
      "Please also refer to the documentation for alternative solver options:\n",
      "    https://scikit-learn.org/stable/modules/linear_model.html#logistic-regression\n",
      "  extra_warning_msg=_LOGISTIC_SOLVER_CONVERGENCE_MSG)\n"
     ]
    },
    {
     "name": "stdout",
     "output_type": "stream",
     "text": [
      "[CV] ...... C=200, max_iter=300, tol=0.001, score=0.843, total=   0.4s\n",
      "[CV] C=200, max_iter=300, tol=0.005 ..................................\n",
      "[CV] ...... C=200, max_iter=300, tol=0.005, score=0.834, total=   0.3s\n",
      "[CV] C=200, max_iter=300, tol=0.005 ..................................\n",
      "[CV] ...... C=200, max_iter=300, tol=0.005, score=0.845, total=   0.2s\n",
      "[CV] C=200, max_iter=300, tol=0.005 ..................................\n",
      "[CV] ...... C=200, max_iter=300, tol=0.005, score=0.853, total=   0.3s\n",
      "[CV] C=200, max_iter=300, tol=0.005 ..................................\n",
      "[CV] ...... C=200, max_iter=300, tol=0.005, score=0.862, total=   0.3s\n",
      "[CV] C=200, max_iter=300, tol=0.005 ..................................\n"
     ]
    },
    {
     "name": "stderr",
     "output_type": "stream",
     "text": [
      "C:\\Users\\BANDANA\\anaconda3\\lib\\site-packages\\sklearn\\linear_model\\_logistic.py:940: ConvergenceWarning: lbfgs failed to converge (status=1):\n",
      "STOP: TOTAL NO. of ITERATIONS REACHED LIMIT.\n",
      "\n",
      "Increase the number of iterations (max_iter) or scale the data as shown in:\n",
      "    https://scikit-learn.org/stable/modules/preprocessing.html\n",
      "Please also refer to the documentation for alternative solver options:\n",
      "    https://scikit-learn.org/stable/modules/linear_model.html#logistic-regression\n",
      "  extra_warning_msg=_LOGISTIC_SOLVER_CONVERGENCE_MSG)\n",
      "C:\\Users\\BANDANA\\anaconda3\\lib\\site-packages\\sklearn\\linear_model\\_logistic.py:940: ConvergenceWarning: lbfgs failed to converge (status=1):\n",
      "STOP: TOTAL NO. of ITERATIONS REACHED LIMIT.\n",
      "\n",
      "Increase the number of iterations (max_iter) or scale the data as shown in:\n",
      "    https://scikit-learn.org/stable/modules/preprocessing.html\n",
      "Please also refer to the documentation for alternative solver options:\n",
      "    https://scikit-learn.org/stable/modules/linear_model.html#logistic-regression\n",
      "  extra_warning_msg=_LOGISTIC_SOLVER_CONVERGENCE_MSG)\n"
     ]
    },
    {
     "name": "stdout",
     "output_type": "stream",
     "text": [
      "[CV] ...... C=200, max_iter=300, tol=0.005, score=0.843, total=   0.4s\n",
      "[CV] C=500, max_iter=100, tol=0.0001 .................................\n",
      "[CV] ..... C=500, max_iter=100, tol=0.0001, score=0.839, total=   0.1s\n",
      "[CV] C=500, max_iter=100, tol=0.0001 .................................\n"
     ]
    },
    {
     "name": "stderr",
     "output_type": "stream",
     "text": [
      "C:\\Users\\BANDANA\\anaconda3\\lib\\site-packages\\sklearn\\linear_model\\_logistic.py:940: ConvergenceWarning: lbfgs failed to converge (status=1):\n",
      "STOP: TOTAL NO. of ITERATIONS REACHED LIMIT.\n",
      "\n",
      "Increase the number of iterations (max_iter) or scale the data as shown in:\n",
      "    https://scikit-learn.org/stable/modules/preprocessing.html\n",
      "Please also refer to the documentation for alternative solver options:\n",
      "    https://scikit-learn.org/stable/modules/linear_model.html#logistic-regression\n",
      "  extra_warning_msg=_LOGISTIC_SOLVER_CONVERGENCE_MSG)\n",
      "C:\\Users\\BANDANA\\anaconda3\\lib\\site-packages\\sklearn\\linear_model\\_logistic.py:940: ConvergenceWarning: lbfgs failed to converge (status=1):\n",
      "STOP: TOTAL NO. of ITERATIONS REACHED LIMIT.\n",
      "\n",
      "Increase the number of iterations (max_iter) or scale the data as shown in:\n",
      "    https://scikit-learn.org/stable/modules/preprocessing.html\n",
      "Please also refer to the documentation for alternative solver options:\n",
      "    https://scikit-learn.org/stable/modules/linear_model.html#logistic-regression\n",
      "  extra_warning_msg=_LOGISTIC_SOLVER_CONVERGENCE_MSG)\n"
     ]
    },
    {
     "name": "stdout",
     "output_type": "stream",
     "text": [
      "[CV] ..... C=500, max_iter=100, tol=0.0001, score=0.849, total=   0.1s\n",
      "[CV] C=500, max_iter=100, tol=0.0001 .................................\n",
      "[CV] ..... C=500, max_iter=100, tol=0.0001, score=0.856, total=   0.1s\n",
      "[CV] C=500, max_iter=100, tol=0.0001 .................................\n"
     ]
    },
    {
     "name": "stderr",
     "output_type": "stream",
     "text": [
      "C:\\Users\\BANDANA\\anaconda3\\lib\\site-packages\\sklearn\\linear_model\\_logistic.py:940: ConvergenceWarning: lbfgs failed to converge (status=1):\n",
      "STOP: TOTAL NO. of ITERATIONS REACHED LIMIT.\n",
      "\n",
      "Increase the number of iterations (max_iter) or scale the data as shown in:\n",
      "    https://scikit-learn.org/stable/modules/preprocessing.html\n",
      "Please also refer to the documentation for alternative solver options:\n",
      "    https://scikit-learn.org/stable/modules/linear_model.html#logistic-regression\n",
      "  extra_warning_msg=_LOGISTIC_SOLVER_CONVERGENCE_MSG)\n",
      "C:\\Users\\BANDANA\\anaconda3\\lib\\site-packages\\sklearn\\linear_model\\_logistic.py:940: ConvergenceWarning: lbfgs failed to converge (status=1):\n",
      "STOP: TOTAL NO. of ITERATIONS REACHED LIMIT.\n",
      "\n",
      "Increase the number of iterations (max_iter) or scale the data as shown in:\n",
      "    https://scikit-learn.org/stable/modules/preprocessing.html\n",
      "Please also refer to the documentation for alternative solver options:\n",
      "    https://scikit-learn.org/stable/modules/linear_model.html#logistic-regression\n",
      "  extra_warning_msg=_LOGISTIC_SOLVER_CONVERGENCE_MSG)\n"
     ]
    },
    {
     "name": "stdout",
     "output_type": "stream",
     "text": [
      "[CV] ..... C=500, max_iter=100, tol=0.0001, score=0.861, total=   0.1s\n",
      "[CV] C=500, max_iter=100, tol=0.0001 .................................\n",
      "[CV] ..... C=500, max_iter=100, tol=0.0001, score=0.848, total=   0.1s\n",
      "[CV] C=500, max_iter=100, tol=0.001 ..................................\n"
     ]
    },
    {
     "name": "stderr",
     "output_type": "stream",
     "text": [
      "C:\\Users\\BANDANA\\anaconda3\\lib\\site-packages\\sklearn\\linear_model\\_logistic.py:940: ConvergenceWarning: lbfgs failed to converge (status=1):\n",
      "STOP: TOTAL NO. of ITERATIONS REACHED LIMIT.\n",
      "\n",
      "Increase the number of iterations (max_iter) or scale the data as shown in:\n",
      "    https://scikit-learn.org/stable/modules/preprocessing.html\n",
      "Please also refer to the documentation for alternative solver options:\n",
      "    https://scikit-learn.org/stable/modules/linear_model.html#logistic-regression\n",
      "  extra_warning_msg=_LOGISTIC_SOLVER_CONVERGENCE_MSG)\n",
      "C:\\Users\\BANDANA\\anaconda3\\lib\\site-packages\\sklearn\\linear_model\\_logistic.py:940: ConvergenceWarning: lbfgs failed to converge (status=1):\n",
      "STOP: TOTAL NO. of ITERATIONS REACHED LIMIT.\n",
      "\n",
      "Increase the number of iterations (max_iter) or scale the data as shown in:\n",
      "    https://scikit-learn.org/stable/modules/preprocessing.html\n",
      "Please also refer to the documentation for alternative solver options:\n",
      "    https://scikit-learn.org/stable/modules/linear_model.html#logistic-regression\n",
      "  extra_warning_msg=_LOGISTIC_SOLVER_CONVERGENCE_MSG)\n"
     ]
    },
    {
     "name": "stdout",
     "output_type": "stream",
     "text": [
      "[CV] ...... C=500, max_iter=100, tol=0.001, score=0.839, total=   0.1s\n",
      "[CV] C=500, max_iter=100, tol=0.001 ..................................\n",
      "[CV] ...... C=500, max_iter=100, tol=0.001, score=0.849, total=   0.1s\n",
      "[CV] C=500, max_iter=100, tol=0.001 ..................................\n"
     ]
    },
    {
     "name": "stderr",
     "output_type": "stream",
     "text": [
      "C:\\Users\\BANDANA\\anaconda3\\lib\\site-packages\\sklearn\\linear_model\\_logistic.py:940: ConvergenceWarning: lbfgs failed to converge (status=1):\n",
      "STOP: TOTAL NO. of ITERATIONS REACHED LIMIT.\n",
      "\n",
      "Increase the number of iterations (max_iter) or scale the data as shown in:\n",
      "    https://scikit-learn.org/stable/modules/preprocessing.html\n",
      "Please also refer to the documentation for alternative solver options:\n",
      "    https://scikit-learn.org/stable/modules/linear_model.html#logistic-regression\n",
      "  extra_warning_msg=_LOGISTIC_SOLVER_CONVERGENCE_MSG)\n",
      "C:\\Users\\BANDANA\\anaconda3\\lib\\site-packages\\sklearn\\linear_model\\_logistic.py:940: ConvergenceWarning: lbfgs failed to converge (status=1):\n",
      "STOP: TOTAL NO. of ITERATIONS REACHED LIMIT.\n",
      "\n",
      "Increase the number of iterations (max_iter) or scale the data as shown in:\n",
      "    https://scikit-learn.org/stable/modules/preprocessing.html\n",
      "Please also refer to the documentation for alternative solver options:\n",
      "    https://scikit-learn.org/stable/modules/linear_model.html#logistic-regression\n",
      "  extra_warning_msg=_LOGISTIC_SOLVER_CONVERGENCE_MSG)\n"
     ]
    },
    {
     "name": "stdout",
     "output_type": "stream",
     "text": [
      "[CV] ...... C=500, max_iter=100, tol=0.001, score=0.856, total=   0.1s\n",
      "[CV] C=500, max_iter=100, tol=0.001 ..................................\n",
      "[CV] ...... C=500, max_iter=100, tol=0.001, score=0.861, total=   0.1s\n",
      "[CV] C=500, max_iter=100, tol=0.001 ..................................\n"
     ]
    },
    {
     "name": "stderr",
     "output_type": "stream",
     "text": [
      "C:\\Users\\BANDANA\\anaconda3\\lib\\site-packages\\sklearn\\linear_model\\_logistic.py:940: ConvergenceWarning: lbfgs failed to converge (status=1):\n",
      "STOP: TOTAL NO. of ITERATIONS REACHED LIMIT.\n",
      "\n",
      "Increase the number of iterations (max_iter) or scale the data as shown in:\n",
      "    https://scikit-learn.org/stable/modules/preprocessing.html\n",
      "Please also refer to the documentation for alternative solver options:\n",
      "    https://scikit-learn.org/stable/modules/linear_model.html#logistic-regression\n",
      "  extra_warning_msg=_LOGISTIC_SOLVER_CONVERGENCE_MSG)\n",
      "C:\\Users\\BANDANA\\anaconda3\\lib\\site-packages\\sklearn\\linear_model\\_logistic.py:940: ConvergenceWarning: lbfgs failed to converge (status=1):\n",
      "STOP: TOTAL NO. of ITERATIONS REACHED LIMIT.\n",
      "\n",
      "Increase the number of iterations (max_iter) or scale the data as shown in:\n",
      "    https://scikit-learn.org/stable/modules/preprocessing.html\n",
      "Please also refer to the documentation for alternative solver options:\n",
      "    https://scikit-learn.org/stable/modules/linear_model.html#logistic-regression\n",
      "  extra_warning_msg=_LOGISTIC_SOLVER_CONVERGENCE_MSG)\n"
     ]
    },
    {
     "name": "stdout",
     "output_type": "stream",
     "text": [
      "[CV] ...... C=500, max_iter=100, tol=0.001, score=0.848, total=   0.1s\n",
      "[CV] C=500, max_iter=100, tol=0.005 ..................................\n",
      "[CV] ...... C=500, max_iter=100, tol=0.005, score=0.839, total=   0.1s\n",
      "[CV] C=500, max_iter=100, tol=0.005 ..................................\n"
     ]
    },
    {
     "name": "stderr",
     "output_type": "stream",
     "text": [
      "C:\\Users\\BANDANA\\anaconda3\\lib\\site-packages\\sklearn\\linear_model\\_logistic.py:940: ConvergenceWarning: lbfgs failed to converge (status=1):\n",
      "STOP: TOTAL NO. of ITERATIONS REACHED LIMIT.\n",
      "\n",
      "Increase the number of iterations (max_iter) or scale the data as shown in:\n",
      "    https://scikit-learn.org/stable/modules/preprocessing.html\n",
      "Please also refer to the documentation for alternative solver options:\n",
      "    https://scikit-learn.org/stable/modules/linear_model.html#logistic-regression\n",
      "  extra_warning_msg=_LOGISTIC_SOLVER_CONVERGENCE_MSG)\n",
      "C:\\Users\\BANDANA\\anaconda3\\lib\\site-packages\\sklearn\\linear_model\\_logistic.py:940: ConvergenceWarning: lbfgs failed to converge (status=1):\n",
      "STOP: TOTAL NO. of ITERATIONS REACHED LIMIT.\n",
      "\n",
      "Increase the number of iterations (max_iter) or scale the data as shown in:\n",
      "    https://scikit-learn.org/stable/modules/preprocessing.html\n",
      "Please also refer to the documentation for alternative solver options:\n",
      "    https://scikit-learn.org/stable/modules/linear_model.html#logistic-regression\n",
      "  extra_warning_msg=_LOGISTIC_SOLVER_CONVERGENCE_MSG)\n"
     ]
    },
    {
     "name": "stdout",
     "output_type": "stream",
     "text": [
      "[CV] ...... C=500, max_iter=100, tol=0.005, score=0.849, total=   0.1s\n",
      "[CV] C=500, max_iter=100, tol=0.005 ..................................\n",
      "[CV] ...... C=500, max_iter=100, tol=0.005, score=0.856, total=   0.1s\n",
      "[CV] C=500, max_iter=100, tol=0.005 ..................................\n"
     ]
    },
    {
     "name": "stderr",
     "output_type": "stream",
     "text": [
      "C:\\Users\\BANDANA\\anaconda3\\lib\\site-packages\\sklearn\\linear_model\\_logistic.py:940: ConvergenceWarning: lbfgs failed to converge (status=1):\n",
      "STOP: TOTAL NO. of ITERATIONS REACHED LIMIT.\n",
      "\n",
      "Increase the number of iterations (max_iter) or scale the data as shown in:\n",
      "    https://scikit-learn.org/stable/modules/preprocessing.html\n",
      "Please also refer to the documentation for alternative solver options:\n",
      "    https://scikit-learn.org/stable/modules/linear_model.html#logistic-regression\n",
      "  extra_warning_msg=_LOGISTIC_SOLVER_CONVERGENCE_MSG)\n",
      "C:\\Users\\BANDANA\\anaconda3\\lib\\site-packages\\sklearn\\linear_model\\_logistic.py:940: ConvergenceWarning: lbfgs failed to converge (status=1):\n",
      "STOP: TOTAL NO. of ITERATIONS REACHED LIMIT.\n",
      "\n",
      "Increase the number of iterations (max_iter) or scale the data as shown in:\n",
      "    https://scikit-learn.org/stable/modules/preprocessing.html\n",
      "Please also refer to the documentation for alternative solver options:\n",
      "    https://scikit-learn.org/stable/modules/linear_model.html#logistic-regression\n",
      "  extra_warning_msg=_LOGISTIC_SOLVER_CONVERGENCE_MSG)\n"
     ]
    },
    {
     "name": "stdout",
     "output_type": "stream",
     "text": [
      "[CV] ...... C=500, max_iter=100, tol=0.005, score=0.861, total=   0.1s\n",
      "[CV] C=500, max_iter=100, tol=0.005 ..................................\n",
      "[CV] ...... C=500, max_iter=100, tol=0.005, score=0.848, total=   0.1s\n",
      "[CV] C=500, max_iter=200, tol=0.0001 .................................\n"
     ]
    },
    {
     "name": "stderr",
     "output_type": "stream",
     "text": [
      "C:\\Users\\BANDANA\\anaconda3\\lib\\site-packages\\sklearn\\linear_model\\_logistic.py:940: ConvergenceWarning: lbfgs failed to converge (status=1):\n",
      "STOP: TOTAL NO. of ITERATIONS REACHED LIMIT.\n",
      "\n",
      "Increase the number of iterations (max_iter) or scale the data as shown in:\n",
      "    https://scikit-learn.org/stable/modules/preprocessing.html\n",
      "Please also refer to the documentation for alternative solver options:\n",
      "    https://scikit-learn.org/stable/modules/linear_model.html#logistic-regression\n",
      "  extra_warning_msg=_LOGISTIC_SOLVER_CONVERGENCE_MSG)\n"
     ]
    },
    {
     "name": "stdout",
     "output_type": "stream",
     "text": [
      "[CV] ..... C=500, max_iter=200, tol=0.0001, score=0.840, total=   0.3s\n",
      "[CV] C=500, max_iter=200, tol=0.0001 .................................\n"
     ]
    },
    {
     "name": "stderr",
     "output_type": "stream",
     "text": [
      "C:\\Users\\BANDANA\\anaconda3\\lib\\site-packages\\sklearn\\linear_model\\_logistic.py:940: ConvergenceWarning: lbfgs failed to converge (status=1):\n",
      "STOP: TOTAL NO. of ITERATIONS REACHED LIMIT.\n",
      "\n",
      "Increase the number of iterations (max_iter) or scale the data as shown in:\n",
      "    https://scikit-learn.org/stable/modules/preprocessing.html\n",
      "Please also refer to the documentation for alternative solver options:\n",
      "    https://scikit-learn.org/stable/modules/linear_model.html#logistic-regression\n",
      "  extra_warning_msg=_LOGISTIC_SOLVER_CONVERGENCE_MSG)\n"
     ]
    },
    {
     "name": "stdout",
     "output_type": "stream",
     "text": [
      "[CV] ..... C=500, max_iter=200, tol=0.0001, score=0.846, total=   0.3s\n",
      "[CV] C=500, max_iter=200, tol=0.0001 .................................\n"
     ]
    },
    {
     "name": "stderr",
     "output_type": "stream",
     "text": [
      "C:\\Users\\BANDANA\\anaconda3\\lib\\site-packages\\sklearn\\linear_model\\_logistic.py:940: ConvergenceWarning: lbfgs failed to converge (status=1):\n",
      "STOP: TOTAL NO. of ITERATIONS REACHED LIMIT.\n",
      "\n",
      "Increase the number of iterations (max_iter) or scale the data as shown in:\n",
      "    https://scikit-learn.org/stable/modules/preprocessing.html\n",
      "Please also refer to the documentation for alternative solver options:\n",
      "    https://scikit-learn.org/stable/modules/linear_model.html#logistic-regression\n",
      "  extra_warning_msg=_LOGISTIC_SOLVER_CONVERGENCE_MSG)\n"
     ]
    },
    {
     "name": "stdout",
     "output_type": "stream",
     "text": [
      "[CV] ..... C=500, max_iter=200, tol=0.0001, score=0.855, total=   0.3s\n",
      "[CV] C=500, max_iter=200, tol=0.0001 .................................\n"
     ]
    },
    {
     "name": "stderr",
     "output_type": "stream",
     "text": [
      "C:\\Users\\BANDANA\\anaconda3\\lib\\site-packages\\sklearn\\linear_model\\_logistic.py:940: ConvergenceWarning: lbfgs failed to converge (status=1):\n",
      "STOP: TOTAL NO. of ITERATIONS REACHED LIMIT.\n",
      "\n",
      "Increase the number of iterations (max_iter) or scale the data as shown in:\n",
      "    https://scikit-learn.org/stable/modules/preprocessing.html\n",
      "Please also refer to the documentation for alternative solver options:\n",
      "    https://scikit-learn.org/stable/modules/linear_model.html#logistic-regression\n",
      "  extra_warning_msg=_LOGISTIC_SOLVER_CONVERGENCE_MSG)\n"
     ]
    },
    {
     "name": "stdout",
     "output_type": "stream",
     "text": [
      "[CV] ..... C=500, max_iter=200, tol=0.0001, score=0.864, total=   0.3s\n",
      "[CV] C=500, max_iter=200, tol=0.0001 .................................\n"
     ]
    },
    {
     "name": "stderr",
     "output_type": "stream",
     "text": [
      "C:\\Users\\BANDANA\\anaconda3\\lib\\site-packages\\sklearn\\linear_model\\_logistic.py:940: ConvergenceWarning: lbfgs failed to converge (status=1):\n",
      "STOP: TOTAL NO. of ITERATIONS REACHED LIMIT.\n",
      "\n",
      "Increase the number of iterations (max_iter) or scale the data as shown in:\n",
      "    https://scikit-learn.org/stable/modules/preprocessing.html\n",
      "Please also refer to the documentation for alternative solver options:\n",
      "    https://scikit-learn.org/stable/modules/linear_model.html#logistic-regression\n",
      "  extra_warning_msg=_LOGISTIC_SOLVER_CONVERGENCE_MSG)\n"
     ]
    },
    {
     "name": "stdout",
     "output_type": "stream",
     "text": [
      "[CV] ..... C=500, max_iter=200, tol=0.0001, score=0.848, total=   0.2s\n",
      "[CV] C=500, max_iter=200, tol=0.001 ..................................\n"
     ]
    },
    {
     "name": "stderr",
     "output_type": "stream",
     "text": [
      "C:\\Users\\BANDANA\\anaconda3\\lib\\site-packages\\sklearn\\linear_model\\_logistic.py:940: ConvergenceWarning: lbfgs failed to converge (status=1):\n",
      "STOP: TOTAL NO. of ITERATIONS REACHED LIMIT.\n",
      "\n",
      "Increase the number of iterations (max_iter) or scale the data as shown in:\n",
      "    https://scikit-learn.org/stable/modules/preprocessing.html\n",
      "Please also refer to the documentation for alternative solver options:\n",
      "    https://scikit-learn.org/stable/modules/linear_model.html#logistic-regression\n",
      "  extra_warning_msg=_LOGISTIC_SOLVER_CONVERGENCE_MSG)\n",
      "C:\\Users\\BANDANA\\anaconda3\\lib\\site-packages\\sklearn\\linear_model\\_logistic.py:940: ConvergenceWarning: lbfgs failed to converge (status=1):\n",
      "STOP: TOTAL NO. of ITERATIONS REACHED LIMIT.\n",
      "\n",
      "Increase the number of iterations (max_iter) or scale the data as shown in:\n",
      "    https://scikit-learn.org/stable/modules/preprocessing.html\n",
      "Please also refer to the documentation for alternative solver options:\n",
      "    https://scikit-learn.org/stable/modules/linear_model.html#logistic-regression\n",
      "  extra_warning_msg=_LOGISTIC_SOLVER_CONVERGENCE_MSG)\n"
     ]
    },
    {
     "name": "stdout",
     "output_type": "stream",
     "text": [
      "[CV] ...... C=500, max_iter=200, tol=0.001, score=0.840, total=   0.2s\n",
      "[CV] C=500, max_iter=200, tol=0.001 ..................................\n",
      "[CV] ...... C=500, max_iter=200, tol=0.001, score=0.846, total=   0.2s\n",
      "[CV] C=500, max_iter=200, tol=0.001 ..................................\n"
     ]
    },
    {
     "name": "stderr",
     "output_type": "stream",
     "text": [
      "C:\\Users\\BANDANA\\anaconda3\\lib\\site-packages\\sklearn\\linear_model\\_logistic.py:940: ConvergenceWarning: lbfgs failed to converge (status=1):\n",
      "STOP: TOTAL NO. of ITERATIONS REACHED LIMIT.\n",
      "\n",
      "Increase the number of iterations (max_iter) or scale the data as shown in:\n",
      "    https://scikit-learn.org/stable/modules/preprocessing.html\n",
      "Please also refer to the documentation for alternative solver options:\n",
      "    https://scikit-learn.org/stable/modules/linear_model.html#logistic-regression\n",
      "  extra_warning_msg=_LOGISTIC_SOLVER_CONVERGENCE_MSG)\n",
      "C:\\Users\\BANDANA\\anaconda3\\lib\\site-packages\\sklearn\\linear_model\\_logistic.py:940: ConvergenceWarning: lbfgs failed to converge (status=1):\n",
      "STOP: TOTAL NO. of ITERATIONS REACHED LIMIT.\n",
      "\n",
      "Increase the number of iterations (max_iter) or scale the data as shown in:\n",
      "    https://scikit-learn.org/stable/modules/preprocessing.html\n",
      "Please also refer to the documentation for alternative solver options:\n",
      "    https://scikit-learn.org/stable/modules/linear_model.html#logistic-regression\n",
      "  extra_warning_msg=_LOGISTIC_SOLVER_CONVERGENCE_MSG)\n"
     ]
    },
    {
     "name": "stdout",
     "output_type": "stream",
     "text": [
      "[CV] ...... C=500, max_iter=200, tol=0.001, score=0.855, total=   0.3s\n",
      "[CV] C=500, max_iter=200, tol=0.001 ..................................\n",
      "[CV] ...... C=500, max_iter=200, tol=0.001, score=0.864, total=   0.2s\n",
      "[CV] C=500, max_iter=200, tol=0.001 ..................................\n"
     ]
    },
    {
     "name": "stderr",
     "output_type": "stream",
     "text": [
      "C:\\Users\\BANDANA\\anaconda3\\lib\\site-packages\\sklearn\\linear_model\\_logistic.py:940: ConvergenceWarning: lbfgs failed to converge (status=1):\n",
      "STOP: TOTAL NO. of ITERATIONS REACHED LIMIT.\n",
      "\n",
      "Increase the number of iterations (max_iter) or scale the data as shown in:\n",
      "    https://scikit-learn.org/stable/modules/preprocessing.html\n",
      "Please also refer to the documentation for alternative solver options:\n",
      "    https://scikit-learn.org/stable/modules/linear_model.html#logistic-regression\n",
      "  extra_warning_msg=_LOGISTIC_SOLVER_CONVERGENCE_MSG)\n"
     ]
    },
    {
     "name": "stdout",
     "output_type": "stream",
     "text": [
      "[CV] ...... C=500, max_iter=200, tol=0.001, score=0.848, total=   0.3s\n",
      "[CV] C=500, max_iter=200, tol=0.005 ..................................\n"
     ]
    },
    {
     "name": "stderr",
     "output_type": "stream",
     "text": [
      "C:\\Users\\BANDANA\\anaconda3\\lib\\site-packages\\sklearn\\linear_model\\_logistic.py:940: ConvergenceWarning: lbfgs failed to converge (status=1):\n",
      "STOP: TOTAL NO. of ITERATIONS REACHED LIMIT.\n",
      "\n",
      "Increase the number of iterations (max_iter) or scale the data as shown in:\n",
      "    https://scikit-learn.org/stable/modules/preprocessing.html\n",
      "Please also refer to the documentation for alternative solver options:\n",
      "    https://scikit-learn.org/stable/modules/linear_model.html#logistic-regression\n",
      "  extra_warning_msg=_LOGISTIC_SOLVER_CONVERGENCE_MSG)\n"
     ]
    },
    {
     "name": "stdout",
     "output_type": "stream",
     "text": [
      "[CV] ...... C=500, max_iter=200, tol=0.005, score=0.840, total=   0.3s\n",
      "[CV] C=500, max_iter=200, tol=0.005 ..................................\n"
     ]
    },
    {
     "name": "stderr",
     "output_type": "stream",
     "text": [
      "C:\\Users\\BANDANA\\anaconda3\\lib\\site-packages\\sklearn\\linear_model\\_logistic.py:940: ConvergenceWarning: lbfgs failed to converge (status=1):\n",
      "STOP: TOTAL NO. of ITERATIONS REACHED LIMIT.\n",
      "\n",
      "Increase the number of iterations (max_iter) or scale the data as shown in:\n",
      "    https://scikit-learn.org/stable/modules/preprocessing.html\n",
      "Please also refer to the documentation for alternative solver options:\n",
      "    https://scikit-learn.org/stable/modules/linear_model.html#logistic-regression\n",
      "  extra_warning_msg=_LOGISTIC_SOLVER_CONVERGENCE_MSG)\n"
     ]
    },
    {
     "name": "stdout",
     "output_type": "stream",
     "text": [
      "[CV] ...... C=500, max_iter=200, tol=0.005, score=0.846, total=   0.3s\n",
      "[CV] C=500, max_iter=200, tol=0.005 ..................................\n"
     ]
    },
    {
     "name": "stderr",
     "output_type": "stream",
     "text": [
      "C:\\Users\\BANDANA\\anaconda3\\lib\\site-packages\\sklearn\\linear_model\\_logistic.py:940: ConvergenceWarning: lbfgs failed to converge (status=1):\n",
      "STOP: TOTAL NO. of ITERATIONS REACHED LIMIT.\n",
      "\n",
      "Increase the number of iterations (max_iter) or scale the data as shown in:\n",
      "    https://scikit-learn.org/stable/modules/preprocessing.html\n",
      "Please also refer to the documentation for alternative solver options:\n",
      "    https://scikit-learn.org/stable/modules/linear_model.html#logistic-regression\n",
      "  extra_warning_msg=_LOGISTIC_SOLVER_CONVERGENCE_MSG)\n"
     ]
    },
    {
     "name": "stdout",
     "output_type": "stream",
     "text": [
      "[CV] ...... C=500, max_iter=200, tol=0.005, score=0.855, total=   0.3s\n",
      "[CV] C=500, max_iter=200, tol=0.005 ..................................\n"
     ]
    },
    {
     "name": "stderr",
     "output_type": "stream",
     "text": [
      "C:\\Users\\BANDANA\\anaconda3\\lib\\site-packages\\sklearn\\linear_model\\_logistic.py:940: ConvergenceWarning: lbfgs failed to converge (status=1):\n",
      "STOP: TOTAL NO. of ITERATIONS REACHED LIMIT.\n",
      "\n",
      "Increase the number of iterations (max_iter) or scale the data as shown in:\n",
      "    https://scikit-learn.org/stable/modules/preprocessing.html\n",
      "Please also refer to the documentation for alternative solver options:\n",
      "    https://scikit-learn.org/stable/modules/linear_model.html#logistic-regression\n",
      "  extra_warning_msg=_LOGISTIC_SOLVER_CONVERGENCE_MSG)\n"
     ]
    },
    {
     "name": "stdout",
     "output_type": "stream",
     "text": [
      "[CV] ...... C=500, max_iter=200, tol=0.005, score=0.864, total=   0.3s\n",
      "[CV] C=500, max_iter=200, tol=0.005 ..................................\n"
     ]
    },
    {
     "name": "stderr",
     "output_type": "stream",
     "text": [
      "C:\\Users\\BANDANA\\anaconda3\\lib\\site-packages\\sklearn\\linear_model\\_logistic.py:940: ConvergenceWarning: lbfgs failed to converge (status=1):\n",
      "STOP: TOTAL NO. of ITERATIONS REACHED LIMIT.\n",
      "\n",
      "Increase the number of iterations (max_iter) or scale the data as shown in:\n",
      "    https://scikit-learn.org/stable/modules/preprocessing.html\n",
      "Please also refer to the documentation for alternative solver options:\n",
      "    https://scikit-learn.org/stable/modules/linear_model.html#logistic-regression\n",
      "  extra_warning_msg=_LOGISTIC_SOLVER_CONVERGENCE_MSG)\n"
     ]
    },
    {
     "name": "stdout",
     "output_type": "stream",
     "text": [
      "[CV] ...... C=500, max_iter=200, tol=0.005, score=0.848, total=   0.2s\n",
      "[CV] C=500, max_iter=300, tol=0.0001 .................................\n",
      "[CV] ..... C=500, max_iter=300, tol=0.0001, score=0.840, total=   0.2s\n",
      "[CV] C=500, max_iter=300, tol=0.0001 .................................\n",
      "[CV] ..... C=500, max_iter=300, tol=0.0001, score=0.846, total=   0.3s\n",
      "[CV] C=500, max_iter=300, tol=0.0001 .................................\n",
      "[CV] ..... C=500, max_iter=300, tol=0.0001, score=0.855, total=   0.3s\n",
      "[CV] C=500, max_iter=300, tol=0.0001 .................................\n"
     ]
    },
    {
     "name": "stderr",
     "output_type": "stream",
     "text": [
      "C:\\Users\\BANDANA\\anaconda3\\lib\\site-packages\\sklearn\\linear_model\\_logistic.py:940: ConvergenceWarning: lbfgs failed to converge (status=1):\n",
      "STOP: TOTAL NO. of ITERATIONS REACHED LIMIT.\n",
      "\n",
      "Increase the number of iterations (max_iter) or scale the data as shown in:\n",
      "    https://scikit-learn.org/stable/modules/preprocessing.html\n",
      "Please also refer to the documentation for alternative solver options:\n",
      "    https://scikit-learn.org/stable/modules/linear_model.html#logistic-regression\n",
      "  extra_warning_msg=_LOGISTIC_SOLVER_CONVERGENCE_MSG)\n"
     ]
    },
    {
     "name": "stdout",
     "output_type": "stream",
     "text": [
      "[CV] ..... C=500, max_iter=300, tol=0.0001, score=0.866, total=   0.3s\n",
      "[CV] C=500, max_iter=300, tol=0.0001 .................................\n",
      "[CV] ..... C=500, max_iter=300, tol=0.0001, score=0.848, total=   0.3s\n",
      "[CV] C=500, max_iter=300, tol=0.001 ..................................\n",
      "[CV] ...... C=500, max_iter=300, tol=0.001, score=0.840, total=   0.3s\n",
      "[CV] C=500, max_iter=300, tol=0.001 ..................................\n",
      "[CV] ...... C=500, max_iter=300, tol=0.001, score=0.846, total=   0.4s\n",
      "[CV] C=500, max_iter=300, tol=0.001 ..................................\n",
      "[CV] ...... C=500, max_iter=300, tol=0.001, score=0.855, total=   0.4s\n",
      "[CV] C=500, max_iter=300, tol=0.001 ..................................\n"
     ]
    },
    {
     "name": "stderr",
     "output_type": "stream",
     "text": [
      "C:\\Users\\BANDANA\\anaconda3\\lib\\site-packages\\sklearn\\linear_model\\_logistic.py:940: ConvergenceWarning: lbfgs failed to converge (status=1):\n",
      "STOP: TOTAL NO. of ITERATIONS REACHED LIMIT.\n",
      "\n",
      "Increase the number of iterations (max_iter) or scale the data as shown in:\n",
      "    https://scikit-learn.org/stable/modules/preprocessing.html\n",
      "Please also refer to the documentation for alternative solver options:\n",
      "    https://scikit-learn.org/stable/modules/linear_model.html#logistic-regression\n",
      "  extra_warning_msg=_LOGISTIC_SOLVER_CONVERGENCE_MSG)\n"
     ]
    },
    {
     "name": "stdout",
     "output_type": "stream",
     "text": [
      "[CV] ...... C=500, max_iter=300, tol=0.001, score=0.866, total=   0.3s\n",
      "[CV] C=500, max_iter=300, tol=0.001 ..................................\n",
      "[CV] ...... C=500, max_iter=300, tol=0.001, score=0.848, total=   0.3s\n",
      "[CV] C=500, max_iter=300, tol=0.005 ..................................\n",
      "[CV] ...... C=500, max_iter=300, tol=0.005, score=0.840, total=   0.2s\n",
      "[CV] C=500, max_iter=300, tol=0.005 ..................................\n",
      "[CV] ...... C=500, max_iter=300, tol=0.005, score=0.846, total=   0.3s\n",
      "[CV] C=500, max_iter=300, tol=0.005 ..................................\n",
      "[CV] ...... C=500, max_iter=300, tol=0.005, score=0.855, total=   0.3s\n",
      "[CV] C=500, max_iter=300, tol=0.005 ..................................\n"
     ]
    },
    {
     "name": "stderr",
     "output_type": "stream",
     "text": [
      "C:\\Users\\BANDANA\\anaconda3\\lib\\site-packages\\sklearn\\linear_model\\_logistic.py:940: ConvergenceWarning: lbfgs failed to converge (status=1):\n",
      "STOP: TOTAL NO. of ITERATIONS REACHED LIMIT.\n",
      "\n",
      "Increase the number of iterations (max_iter) or scale the data as shown in:\n",
      "    https://scikit-learn.org/stable/modules/preprocessing.html\n",
      "Please also refer to the documentation for alternative solver options:\n",
      "    https://scikit-learn.org/stable/modules/linear_model.html#logistic-regression\n",
      "  extra_warning_msg=_LOGISTIC_SOLVER_CONVERGENCE_MSG)\n"
     ]
    },
    {
     "name": "stdout",
     "output_type": "stream",
     "text": [
      "[CV] ...... C=500, max_iter=300, tol=0.005, score=0.866, total=   0.3s\n",
      "[CV] C=500, max_iter=300, tol=0.005 ..................................\n",
      "[CV] ...... C=500, max_iter=300, tol=0.005, score=0.848, total=   0.4s\n"
     ]
    },
    {
     "name": "stderr",
     "output_type": "stream",
     "text": [
      "[Parallel(n_jobs=1)]: Done 315 out of 315 | elapsed:  1.0min finished\n"
     ]
    },
    {
     "data": {
      "text/plain": [
       "GridSearchCV(cv=None, error_score=nan,\n",
       "             estimator=LogisticRegression(C=1.0, class_weight=None, dual=False,\n",
       "                                          fit_intercept=True,\n",
       "                                          intercept_scaling=1, l1_ratio=None,\n",
       "                                          max_iter=100, multi_class='auto',\n",
       "                                          n_jobs=None, penalty='l2',\n",
       "                                          random_state=None, solver='lbfgs',\n",
       "                                          tol=0.0001, verbose=0,\n",
       "                                          warm_start=False),\n",
       "             iid='deprecated', n_jobs=None,\n",
       "             param_grid={'C': [1, 5, 10, 50, 100, 200, 500],\n",
       "                         'max_iter': [100, 200, 300],\n",
       "                         'tol': [0.0001, 0.001, 0.005]},\n",
       "             pre_dispatch='2*n_jobs', refit=True, return_train_score=False,\n",
       "             scoring=None, verbose=3)"
      ]
     },
     "execution_count": 32,
     "metadata": {},
     "output_type": "execute_result"
    }
   ],
   "source": [
    "# Train the model with GridSearch\n",
    "grid.fit(X_train_scaled, y_train)\n"
   ]
  },
  {
   "cell_type": "code",
   "execution_count": 33,
   "metadata": {},
   "outputs": [
    {
     "name": "stdout",
     "output_type": "stream",
     "text": [
      "{'C': 500, 'max_iter': 300, 'tol': 0.0001}\n",
      "0.8508158877258483\n"
     ]
    }
   ],
   "source": [
    "print(grid.best_params_)\n",
    "print(grid.best_score_)"
   ]
  },
  {
   "cell_type": "code",
   "execution_count": 34,
   "metadata": {},
   "outputs": [
    {
     "name": "stdout",
     "output_type": "stream",
     "text": [
      "370 343\n",
      "0.8369462770970783\n"
     ]
    }
   ],
   "source": [
    "#compare with the test data!\n",
    "predictions = grid.predict(X_test_scaled)\n",
    "print(sum(predictions), sum(y_test))\n",
    "\n",
    "total = 0\n",
    "\n",
    "for i in range(len(predictions)):\n",
    "    if(predictions[i] == y_test.array[i]):\n",
    "        total +=1 \n",
    "        \n",
    "print(total/len(predictions))"
   ]
  },
  {
   "cell_type": "code",
   "execution_count": 35,
   "metadata": {},
   "outputs": [
    {
     "name": "stdout",
     "output_type": "stream",
     "text": [
      "                precision    recall  f1-score   support\n",
      "\n",
      "     Confirmed       0.89      0.86      0.88       718\n",
      "False Positive       0.73      0.79      0.76       343\n",
      "\n",
      "      accuracy                           0.84      1061\n",
      "     macro avg       0.81      0.82      0.82      1061\n",
      "  weighted avg       0.84      0.84      0.84      1061\n",
      "\n"
     ]
    }
   ],
   "source": [
    "#check classification report for how the tuned model did!\n",
    "from sklearn.metrics import classification_report\n",
    "\n",
    "print(classification_report(y_test, predictions,\n",
    "                            target_names=[\"Confirmed\", \"False Positive\"]))"
   ]
  },
  {
   "cell_type": "markdown",
   "metadata": {},
   "source": [
    "# Save the Model"
   ]
  },
  {
   "cell_type": "code",
   "execution_count": 37,
   "metadata": {},
   "outputs": [
    {
     "data": {
      "text/plain": [
       "['Bandana_model.sav']"
      ]
     },
     "execution_count": 37,
     "metadata": {},
     "output_type": "execute_result"
    }
   ],
   "source": [
    "# save your model by updating \"your_name\" with your name\n",
    "# and \"your_model\" with your model variable\n",
    "# be sure to turn this in to BCS\n",
    "# if joblib fails to import, try running the command to install in terminal/git-bash\n",
    "import joblib\n",
    "filename = 'Bandana_model.sav'\n",
    "joblib.dump(grid, filename)"
   ]
  },
  {
   "cell_type": "code",
   "execution_count": null,
   "metadata": {},
   "outputs": [],
   "source": []
  }
 ],
 "metadata": {
  "kernel_info": {
   "name": "dev"
  },
  "kernelspec": {
   "display_name": "Python 3",
   "language": "python",
   "name": "python3"
  },
  "language_info": {
   "codemirror_mode": {
    "name": "ipython",
    "version": 3
   },
   "file_extension": ".py",
   "mimetype": "text/x-python",
   "name": "python",
   "nbconvert_exporter": "python",
   "pygments_lexer": "ipython3",
   "version": "3.7.6"
  },
  "nteract": {
   "version": "0.12.3"
  }
 },
 "nbformat": 4,
 "nbformat_minor": 2
}
